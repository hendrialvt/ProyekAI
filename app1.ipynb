{
 "cells": [
  {
   "cell_type": "code",
   "execution_count": 10,
   "metadata": {},
   "outputs": [],
   "source": [
    "from flask import Flask\n"
   ]
  },
  {
   "cell_type": "code",
   "execution_count": 11,
   "metadata": {},
   "outputs": [
    {
     "name": "stderr",
     "output_type": "stream",
     "text": [
      "t=2023-06-05T15:15:38+0700 lvl=warn msg=\"ngrok config file found at legacy location, move to XDG location\" xdg_path=C:\\\\Users\\\\Dinova\\\\AppData\\\\Local/ngrok/ngrok.yml legacy_path=C:\\\\Users\\\\Dinova\\\\.ngrok2\\\\ngrok.yml\n"
     ]
    },
    {
     "name": "stdout",
     "output_type": "stream",
     "text": [
      "Public URL https://23ce-2a09-bac1-34c0-18-00-19c-3.ngrok-free.app\n",
      " * Serving Flask app '__main__'\n",
      " * Debug mode: off\n"
     ]
    },
    {
     "name": "stderr",
     "output_type": "stream",
     "text": [
      "c:\\Users\\Dinova\\AppData\\Local\\Programs\\Python\\Python310\\lib\\site-packages\\sklearn\\base.py:299: UserWarning: Trying to unpickle estimator StandardScaler from version 1.2.2 when using version 1.2.1. This might lead to breaking code or invalid results. Use at your own risk. For more info please refer to:\n",
      "https://scikit-learn.org/stable/model_persistence.html#security-maintainability-limitations\n",
      "  warnings.warn(\n",
      "WARNING: This is a development server. Do not use it in a production deployment. Use a production WSGI server instead.\n",
      " * Running on http://127.0.0.1:5000\n",
      "Press CTRL+C to quit\n",
      "127.0.0.1 - - [05/Jun/2023 15:15:49] \"GET / HTTP/1.1\" 200 -\n",
      "127.0.0.1 - - [05/Jun/2023 15:15:50] \"GET /background.jpg HTTP/1.1\" 404 -\n",
      "127.0.0.1 - - [05/Jun/2023 15:15:50] \"GET /favicon.ico HTTP/1.1\" 404 -\n"
     ]
    },
    {
     "name": "stdout",
     "output_type": "stream",
     "text": [
      "1/1 [==============================] - 0s 82ms/step\n"
     ]
    },
    {
     "name": "stderr",
     "output_type": "stream",
     "text": [
      "c:\\Users\\Dinova\\AppData\\Local\\Programs\\Python\\Python310\\lib\\site-packages\\sklearn\\base.py:420: UserWarning: X does not have valid feature names, but StandardScaler was fitted with feature names\n",
      "  warnings.warn(\n",
      "127.0.0.1 - - [05/Jun/2023 15:16:15] \"POST /predict HTTP/1.1\" 200 -\n",
      "127.0.0.1 - - [05/Jun/2023 15:16:16] \"GET /background.jpg HTTP/1.1\" 404 -\n",
      "127.0.0.1 - - [05/Jun/2023 15:16:22] \"GET /predict HTTP/1.1\" 405 -\n"
     ]
    }
   ],
   "source": [
    "import tensorflow as tf\n",
    "from flask import Flask, request, jsonify, render_template\n",
    "import numpy as np\n",
    "import joblib\n",
    "from pyngrok import ngrok\n",
    "\n",
    "port_no = 5000\n",
    "\n",
    "app = Flask(__name__)\n",
    "ngrok.set_auth_token('2QmGLebRRwE1E5QTHlZTRWmhcYM_7USqwEnLcXESiRFRFLHJV')\n",
    "public_url = ngrok.connect(port_no).public_url\n",
    "\n",
    "# Load model\n",
    "model = tf.keras.models.load_model('model.h5')\n",
    "scalar = joblib.load('scaling.pkl')\n",
    "\n",
    "# Define label mapping\n",
    "label_mapping = {\n",
    "    0: 'GALAXY',\n",
    "    1: 'QSO',\n",
    "    2: 'STAR'\n",
    "}\n",
    "\n",
    "@app.route('/')\n",
    "def home():\n",
    "    return render_template('home.html')\n",
    "\n",
    "@app.route('/predict_api', methods=['POST'])\n",
    "def predict_api():\n",
    "    data = request.json['data']\n",
    "    new_data = scalar.transform(np.array(list(data.values())).reshape(1, -1))\n",
    "    output_probabilities = model.predict(new_data)\n",
    "    predicted_class = np.argmax(output_probabilities)\n",
    "    predicted_label = label_mapping.get(predicted_class)\n",
    "    return jsonify({\n",
    "        'probabilities': output_probabilities.tolist(),\n",
    "        'predicted_class': predicted_label\n",
    "    })\n",
    "\n",
    "@app.route('/predict', methods=['POST'])\n",
    "def predict():\n",
    "    data = [float(x) for x in request.form.values()]\n",
    "    final_input = scalar.transform(np.array(data).reshape(1, -1))\n",
    "    output_probabilities = model.predict(final_input)\n",
    "    predicted_class = np.argmax(output_probabilities)\n",
    "    predicted_label = label_mapping.get(predicted_class)\n",
    "    return render_template(\"home.html\", prediction_text=\"Tipe Stellar adalah {}\".format(predicted_label))\n",
    "\n",
    "print(f\"Public URL {public_url}\")\n",
    "\n",
    "if __name__ == \"__main__\":\n",
    "    app.run(debug=False,port=port_no)"
   ]
  }
 ],
 "metadata": {
  "kernelspec": {
   "display_name": "Python 3",
   "language": "python",
   "name": "python3"
  },
  "language_info": {
   "codemirror_mode": {
    "name": "ipython",
    "version": 3
   },
   "file_extension": ".py",
   "mimetype": "text/x-python",
   "name": "python",
   "nbconvert_exporter": "python",
   "pygments_lexer": "ipython3",
   "version": "3.10.10"
  },
  "orig_nbformat": 4
 },
 "nbformat": 4,
 "nbformat_minor": 2
}
