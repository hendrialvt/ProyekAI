{
 "cells": [
  {
   "cell_type": "code",
   "execution_count": 17,
   "metadata": {},
   "outputs": [
    {
     "data": {
      "text/html": [
       "<div>\n",
       "<style scoped>\n",
       "    .dataframe tbody tr th:only-of-type {\n",
       "        vertical-align: middle;\n",
       "    }\n",
       "\n",
       "    .dataframe tbody tr th {\n",
       "        vertical-align: top;\n",
       "    }\n",
       "\n",
       "    .dataframe thead th {\n",
       "        text-align: right;\n",
       "    }\n",
       "</style>\n",
       "<table border=\"1\" class=\"dataframe\">\n",
       "  <thead>\n",
       "    <tr style=\"text-align: right;\">\n",
       "      <th></th>\n",
       "      <th>obj_ID</th>\n",
       "      <th>alpha</th>\n",
       "      <th>delta</th>\n",
       "      <th>u</th>\n",
       "      <th>g</th>\n",
       "      <th>r</th>\n",
       "      <th>i</th>\n",
       "      <th>z</th>\n",
       "      <th>run_ID</th>\n",
       "      <th>rerun_ID</th>\n",
       "      <th>cam_col</th>\n",
       "      <th>field_ID</th>\n",
       "      <th>spec_obj_ID</th>\n",
       "      <th>class</th>\n",
       "      <th>redshift</th>\n",
       "      <th>plate</th>\n",
       "      <th>MJD</th>\n",
       "      <th>fiber_ID</th>\n",
       "    </tr>\n",
       "  </thead>\n",
       "  <tbody>\n",
       "    <tr>\n",
       "      <th>0</th>\n",
       "      <td>1.237661e+18</td>\n",
       "      <td>135.689107</td>\n",
       "      <td>32.494632</td>\n",
       "      <td>23.87882</td>\n",
       "      <td>22.27530</td>\n",
       "      <td>20.39501</td>\n",
       "      <td>19.16573</td>\n",
       "      <td>18.79371</td>\n",
       "      <td>3606</td>\n",
       "      <td>301</td>\n",
       "      <td>2</td>\n",
       "      <td>79</td>\n",
       "      <td>6.543777e+18</td>\n",
       "      <td>GALAXY</td>\n",
       "      <td>0.634794</td>\n",
       "      <td>5812</td>\n",
       "      <td>56354</td>\n",
       "      <td>171</td>\n",
       "    </tr>\n",
       "    <tr>\n",
       "      <th>1</th>\n",
       "      <td>1.237665e+18</td>\n",
       "      <td>144.826101</td>\n",
       "      <td>31.274185</td>\n",
       "      <td>24.77759</td>\n",
       "      <td>22.83188</td>\n",
       "      <td>22.58444</td>\n",
       "      <td>21.16812</td>\n",
       "      <td>21.61427</td>\n",
       "      <td>4518</td>\n",
       "      <td>301</td>\n",
       "      <td>5</td>\n",
       "      <td>119</td>\n",
       "      <td>1.176014e+19</td>\n",
       "      <td>GALAXY</td>\n",
       "      <td>0.779136</td>\n",
       "      <td>10445</td>\n",
       "      <td>58158</td>\n",
       "      <td>427</td>\n",
       "    </tr>\n",
       "    <tr>\n",
       "      <th>2</th>\n",
       "      <td>1.237661e+18</td>\n",
       "      <td>142.188790</td>\n",
       "      <td>35.582444</td>\n",
       "      <td>25.26307</td>\n",
       "      <td>22.66389</td>\n",
       "      <td>20.60976</td>\n",
       "      <td>19.34857</td>\n",
       "      <td>18.94827</td>\n",
       "      <td>3606</td>\n",
       "      <td>301</td>\n",
       "      <td>2</td>\n",
       "      <td>120</td>\n",
       "      <td>5.152200e+18</td>\n",
       "      <td>GALAXY</td>\n",
       "      <td>0.644195</td>\n",
       "      <td>4576</td>\n",
       "      <td>55592</td>\n",
       "      <td>299</td>\n",
       "    </tr>\n",
       "    <tr>\n",
       "      <th>3</th>\n",
       "      <td>1.237663e+18</td>\n",
       "      <td>338.741038</td>\n",
       "      <td>-0.402828</td>\n",
       "      <td>22.13682</td>\n",
       "      <td>23.77656</td>\n",
       "      <td>21.61162</td>\n",
       "      <td>20.50454</td>\n",
       "      <td>19.25010</td>\n",
       "      <td>4192</td>\n",
       "      <td>301</td>\n",
       "      <td>3</td>\n",
       "      <td>214</td>\n",
       "      <td>1.030107e+19</td>\n",
       "      <td>GALAXY</td>\n",
       "      <td>0.932346</td>\n",
       "      <td>9149</td>\n",
       "      <td>58039</td>\n",
       "      <td>775</td>\n",
       "    </tr>\n",
       "    <tr>\n",
       "      <th>4</th>\n",
       "      <td>1.237680e+18</td>\n",
       "      <td>345.282593</td>\n",
       "      <td>21.183866</td>\n",
       "      <td>19.43718</td>\n",
       "      <td>17.58028</td>\n",
       "      <td>16.49747</td>\n",
       "      <td>15.97711</td>\n",
       "      <td>15.54461</td>\n",
       "      <td>8102</td>\n",
       "      <td>301</td>\n",
       "      <td>3</td>\n",
       "      <td>137</td>\n",
       "      <td>6.891865e+18</td>\n",
       "      <td>GALAXY</td>\n",
       "      <td>0.116123</td>\n",
       "      <td>6121</td>\n",
       "      <td>56187</td>\n",
       "      <td>842</td>\n",
       "    </tr>\n",
       "  </tbody>\n",
       "</table>\n",
       "</div>"
      ],
      "text/plain": [
       "         obj_ID       alpha      delta         u         g         r  \\\n",
       "0  1.237661e+18  135.689107  32.494632  23.87882  22.27530  20.39501   \n",
       "1  1.237665e+18  144.826101  31.274185  24.77759  22.83188  22.58444   \n",
       "2  1.237661e+18  142.188790  35.582444  25.26307  22.66389  20.60976   \n",
       "3  1.237663e+18  338.741038  -0.402828  22.13682  23.77656  21.61162   \n",
       "4  1.237680e+18  345.282593  21.183866  19.43718  17.58028  16.49747   \n",
       "\n",
       "          i         z  run_ID  rerun_ID  cam_col  field_ID   spec_obj_ID  \\\n",
       "0  19.16573  18.79371    3606       301        2        79  6.543777e+18   \n",
       "1  21.16812  21.61427    4518       301        5       119  1.176014e+19   \n",
       "2  19.34857  18.94827    3606       301        2       120  5.152200e+18   \n",
       "3  20.50454  19.25010    4192       301        3       214  1.030107e+19   \n",
       "4  15.97711  15.54461    8102       301        3       137  6.891865e+18   \n",
       "\n",
       "    class  redshift  plate    MJD  fiber_ID  \n",
       "0  GALAXY  0.634794   5812  56354       171  \n",
       "1  GALAXY  0.779136  10445  58158       427  \n",
       "2  GALAXY  0.644195   4576  55592       299  \n",
       "3  GALAXY  0.932346   9149  58039       775  \n",
       "4  GALAXY  0.116123   6121  56187       842  "
      ]
     },
     "execution_count": 17,
     "metadata": {},
     "output_type": "execute_result"
    }
   ],
   "source": [
    "import pandas as pd\n",
    "import numpy as np\n",
    "#from ydata_profiling import ProfileReport\n",
    "\n",
    "df = pd.read_csv('star_classification.csv')\n",
    "df.head()"
   ]
  },
  {
   "cell_type": "code",
   "execution_count": 18,
   "metadata": {},
   "outputs": [
    {
     "data": {
      "text/plain": [
       "(100000, 18)"
      ]
     },
     "execution_count": 18,
     "metadata": {},
     "output_type": "execute_result"
    }
   ],
   "source": [
    "df.shape"
   ]
  },
  {
   "cell_type": "code",
   "execution_count": 19,
   "metadata": {},
   "outputs": [
    {
     "data": {
      "text/plain": [
       "obj_ID         0\n",
       "alpha          0\n",
       "delta          0\n",
       "u              0\n",
       "g              0\n",
       "r              0\n",
       "i              0\n",
       "z              0\n",
       "run_ID         0\n",
       "rerun_ID       0\n",
       "cam_col        0\n",
       "field_ID       0\n",
       "spec_obj_ID    0\n",
       "class          0\n",
       "redshift       0\n",
       "plate          0\n",
       "MJD            0\n",
       "fiber_ID       0\n",
       "dtype: int64"
      ]
     },
     "execution_count": 19,
     "metadata": {},
     "output_type": "execute_result"
    }
   ],
   "source": [
    "df.isna().sum()"
   ]
  },
  {
   "cell_type": "code",
   "execution_count": 20,
   "metadata": {},
   "outputs": [
    {
     "data": {
      "text/plain": [
       "obj_ID         float64\n",
       "alpha          float64\n",
       "delta          float64\n",
       "u              float64\n",
       "g              float64\n",
       "r              float64\n",
       "i              float64\n",
       "z              float64\n",
       "run_ID           int64\n",
       "rerun_ID         int64\n",
       "cam_col          int64\n",
       "field_ID         int64\n",
       "spec_obj_ID    float64\n",
       "class           object\n",
       "redshift       float64\n",
       "plate            int64\n",
       "MJD              int64\n",
       "fiber_ID         int64\n",
       "dtype: object"
      ]
     },
     "execution_count": 20,
     "metadata": {},
     "output_type": "execute_result"
    }
   ],
   "source": [
    "df.dtypes"
   ]
  },
  {
   "cell_type": "code",
   "execution_count": 21,
   "metadata": {},
   "outputs": [
    {
     "data": {
      "text/plain": [
       "array(['GALAXY', 'QSO', 'STAR'], dtype=object)"
      ]
     },
     "execution_count": 21,
     "metadata": {},
     "output_type": "execute_result"
    }
   ],
   "source": [
    "df['class'].unique()"
   ]
  },
  {
   "cell_type": "code",
   "execution_count": 22,
   "metadata": {},
   "outputs": [
    {
     "data": {
      "text/plain": [
       "GALAXY    59445\n",
       "STAR      21594\n",
       "QSO       18961\n",
       "Name: class, dtype: int64"
      ]
     },
     "execution_count": 22,
     "metadata": {},
     "output_type": "execute_result"
    }
   ],
   "source": [
    "df['class'].value_counts()"
   ]
  },
  {
   "cell_type": "code",
   "execution_count": 23,
   "metadata": {},
   "outputs": [],
   "source": [
    "#profile = ProfileReport(df,title=\"Star Profile Report\")\n",
    "#profile"
   ]
  },
  {
   "cell_type": "code",
   "execution_count": 24,
   "metadata": {},
   "outputs": [],
   "source": [
    "df = df.drop(columns = ['obj_ID', 'run_ID', 'rerun_ID', 'cam_col', 'field_ID', 'fiber_ID'], axis=1)"
   ]
  },
  {
   "cell_type": "code",
   "execution_count": 25,
   "metadata": {},
   "outputs": [
    {
     "data": {
      "text/html": [
       "<div>\n",
       "<style scoped>\n",
       "    .dataframe tbody tr th:only-of-type {\n",
       "        vertical-align: middle;\n",
       "    }\n",
       "\n",
       "    .dataframe tbody tr th {\n",
       "        vertical-align: top;\n",
       "    }\n",
       "\n",
       "    .dataframe thead th {\n",
       "        text-align: right;\n",
       "    }\n",
       "</style>\n",
       "<table border=\"1\" class=\"dataframe\">\n",
       "  <thead>\n",
       "    <tr style=\"text-align: right;\">\n",
       "      <th></th>\n",
       "      <th>alpha</th>\n",
       "      <th>delta</th>\n",
       "      <th>u</th>\n",
       "      <th>g</th>\n",
       "      <th>r</th>\n",
       "      <th>i</th>\n",
       "      <th>z</th>\n",
       "      <th>spec_obj_ID</th>\n",
       "      <th>class</th>\n",
       "      <th>redshift</th>\n",
       "      <th>plate</th>\n",
       "      <th>MJD</th>\n",
       "    </tr>\n",
       "  </thead>\n",
       "  <tbody>\n",
       "    <tr>\n",
       "      <th>79543</th>\n",
       "      <td>224.006526</td>\n",
       "      <td>-0.624304</td>\n",
       "      <td>-9999.0</td>\n",
       "      <td>-9999.0</td>\n",
       "      <td>18.1656</td>\n",
       "      <td>18.01675</td>\n",
       "      <td>-9999.0</td>\n",
       "      <td>3.731277e+18</td>\n",
       "      <td>STAR</td>\n",
       "      <td>0.000089</td>\n",
       "      <td>3314</td>\n",
       "      <td>54970</td>\n",
       "    </tr>\n",
       "  </tbody>\n",
       "</table>\n",
       "</div>"
      ],
      "text/plain": [
       "            alpha     delta       u       g        r         i       z  \\\n",
       "79543  224.006526 -0.624304 -9999.0 -9999.0  18.1656  18.01675 -9999.0   \n",
       "\n",
       "        spec_obj_ID class  redshift  plate    MJD  \n",
       "79543  3.731277e+18  STAR  0.000089   3314  54970  "
      ]
     },
     "execution_count": 25,
     "metadata": {},
     "output_type": "execute_result"
    }
   ],
   "source": [
    "odd = df.loc[df['u'] == -9999]\n",
    "odd"
   ]
  },
  {
   "cell_type": "code",
   "execution_count": 26,
   "metadata": {},
   "outputs": [
    {
     "data": {
      "text/html": [
       "<div>\n",
       "<style scoped>\n",
       "    .dataframe tbody tr th:only-of-type {\n",
       "        vertical-align: middle;\n",
       "    }\n",
       "\n",
       "    .dataframe tbody tr th {\n",
       "        vertical-align: top;\n",
       "    }\n",
       "\n",
       "    .dataframe thead th {\n",
       "        text-align: right;\n",
       "    }\n",
       "</style>\n",
       "<table border=\"1\" class=\"dataframe\">\n",
       "  <thead>\n",
       "    <tr style=\"text-align: right;\">\n",
       "      <th></th>\n",
       "      <th>alpha</th>\n",
       "      <th>delta</th>\n",
       "      <th>u</th>\n",
       "      <th>g</th>\n",
       "      <th>r</th>\n",
       "      <th>i</th>\n",
       "      <th>z</th>\n",
       "      <th>spec_obj_ID</th>\n",
       "      <th>class</th>\n",
       "      <th>redshift</th>\n",
       "      <th>plate</th>\n",
       "      <th>MJD</th>\n",
       "    </tr>\n",
       "  </thead>\n",
       "  <tbody>\n",
       "    <tr>\n",
       "      <th>79543</th>\n",
       "      <td>224.006526</td>\n",
       "      <td>-0.624304</td>\n",
       "      <td>-9999.0</td>\n",
       "      <td>-9999.0</td>\n",
       "      <td>18.1656</td>\n",
       "      <td>18.01675</td>\n",
       "      <td>-9999.0</td>\n",
       "      <td>3.731277e+18</td>\n",
       "      <td>STAR</td>\n",
       "      <td>0.000089</td>\n",
       "      <td>3314</td>\n",
       "      <td>54970</td>\n",
       "    </tr>\n",
       "  </tbody>\n",
       "</table>\n",
       "</div>"
      ],
      "text/plain": [
       "            alpha     delta       u       g        r         i       z  \\\n",
       "79543  224.006526 -0.624304 -9999.0 -9999.0  18.1656  18.01675 -9999.0   \n",
       "\n",
       "        spec_obj_ID class  redshift  plate    MJD  \n",
       "79543  3.731277e+18  STAR  0.000089   3314  54970  "
      ]
     },
     "execution_count": 26,
     "metadata": {},
     "output_type": "execute_result"
    }
   ],
   "source": [
    "odd1 = df.loc[df['g'] == -9999]\n",
    "odd1"
   ]
  },
  {
   "cell_type": "code",
   "execution_count": 27,
   "metadata": {},
   "outputs": [
    {
     "data": {
      "text/html": [
       "<div>\n",
       "<style scoped>\n",
       "    .dataframe tbody tr th:only-of-type {\n",
       "        vertical-align: middle;\n",
       "    }\n",
       "\n",
       "    .dataframe tbody tr th {\n",
       "        vertical-align: top;\n",
       "    }\n",
       "\n",
       "    .dataframe thead th {\n",
       "        text-align: right;\n",
       "    }\n",
       "</style>\n",
       "<table border=\"1\" class=\"dataframe\">\n",
       "  <thead>\n",
       "    <tr style=\"text-align: right;\">\n",
       "      <th></th>\n",
       "      <th>alpha</th>\n",
       "      <th>delta</th>\n",
       "      <th>u</th>\n",
       "      <th>g</th>\n",
       "      <th>r</th>\n",
       "      <th>i</th>\n",
       "      <th>z</th>\n",
       "      <th>spec_obj_ID</th>\n",
       "      <th>class</th>\n",
       "      <th>redshift</th>\n",
       "      <th>plate</th>\n",
       "      <th>MJD</th>\n",
       "    </tr>\n",
       "  </thead>\n",
       "  <tbody>\n",
       "  </tbody>\n",
       "</table>\n",
       "</div>"
      ],
      "text/plain": [
       "Empty DataFrame\n",
       "Columns: [alpha, delta, u, g, r, i, z, spec_obj_ID, class, redshift, plate, MJD]\n",
       "Index: []"
      ]
     },
     "execution_count": 27,
     "metadata": {},
     "output_type": "execute_result"
    }
   ],
   "source": [
    "odd2 = df.loc[df['r'] == -9999]\n",
    "odd2"
   ]
  },
  {
   "cell_type": "code",
   "execution_count": 28,
   "metadata": {},
   "outputs": [
    {
     "data": {
      "text/html": [
       "<div>\n",
       "<style scoped>\n",
       "    .dataframe tbody tr th:only-of-type {\n",
       "        vertical-align: middle;\n",
       "    }\n",
       "\n",
       "    .dataframe tbody tr th {\n",
       "        vertical-align: top;\n",
       "    }\n",
       "\n",
       "    .dataframe thead th {\n",
       "        text-align: right;\n",
       "    }\n",
       "</style>\n",
       "<table border=\"1\" class=\"dataframe\">\n",
       "  <thead>\n",
       "    <tr style=\"text-align: right;\">\n",
       "      <th></th>\n",
       "      <th>alpha</th>\n",
       "      <th>delta</th>\n",
       "      <th>u</th>\n",
       "      <th>g</th>\n",
       "      <th>r</th>\n",
       "      <th>i</th>\n",
       "      <th>z</th>\n",
       "      <th>spec_obj_ID</th>\n",
       "      <th>class</th>\n",
       "      <th>redshift</th>\n",
       "      <th>plate</th>\n",
       "      <th>MJD</th>\n",
       "    </tr>\n",
       "  </thead>\n",
       "  <tbody>\n",
       "  </tbody>\n",
       "</table>\n",
       "</div>"
      ],
      "text/plain": [
       "Empty DataFrame\n",
       "Columns: [alpha, delta, u, g, r, i, z, spec_obj_ID, class, redshift, plate, MJD]\n",
       "Index: []"
      ]
     },
     "execution_count": 28,
     "metadata": {},
     "output_type": "execute_result"
    }
   ],
   "source": [
    "odd3 = df.loc[df['i'] == -9999]\n",
    "odd3"
   ]
  },
  {
   "cell_type": "code",
   "execution_count": 29,
   "metadata": {},
   "outputs": [
    {
     "data": {
      "text/html": [
       "<div>\n",
       "<style scoped>\n",
       "    .dataframe tbody tr th:only-of-type {\n",
       "        vertical-align: middle;\n",
       "    }\n",
       "\n",
       "    .dataframe tbody tr th {\n",
       "        vertical-align: top;\n",
       "    }\n",
       "\n",
       "    .dataframe thead th {\n",
       "        text-align: right;\n",
       "    }\n",
       "</style>\n",
       "<table border=\"1\" class=\"dataframe\">\n",
       "  <thead>\n",
       "    <tr style=\"text-align: right;\">\n",
       "      <th></th>\n",
       "      <th>alpha</th>\n",
       "      <th>delta</th>\n",
       "      <th>u</th>\n",
       "      <th>g</th>\n",
       "      <th>r</th>\n",
       "      <th>i</th>\n",
       "      <th>z</th>\n",
       "      <th>spec_obj_ID</th>\n",
       "      <th>class</th>\n",
       "      <th>redshift</th>\n",
       "      <th>plate</th>\n",
       "      <th>MJD</th>\n",
       "    </tr>\n",
       "  </thead>\n",
       "  <tbody>\n",
       "    <tr>\n",
       "      <th>79543</th>\n",
       "      <td>224.006526</td>\n",
       "      <td>-0.624304</td>\n",
       "      <td>-9999.0</td>\n",
       "      <td>-9999.0</td>\n",
       "      <td>18.1656</td>\n",
       "      <td>18.01675</td>\n",
       "      <td>-9999.0</td>\n",
       "      <td>3.731277e+18</td>\n",
       "      <td>STAR</td>\n",
       "      <td>0.000089</td>\n",
       "      <td>3314</td>\n",
       "      <td>54970</td>\n",
       "    </tr>\n",
       "  </tbody>\n",
       "</table>\n",
       "</div>"
      ],
      "text/plain": [
       "            alpha     delta       u       g        r         i       z  \\\n",
       "79543  224.006526 -0.624304 -9999.0 -9999.0  18.1656  18.01675 -9999.0   \n",
       "\n",
       "        spec_obj_ID class  redshift  plate    MJD  \n",
       "79543  3.731277e+18  STAR  0.000089   3314  54970  "
      ]
     },
     "execution_count": 29,
     "metadata": {},
     "output_type": "execute_result"
    }
   ],
   "source": [
    "odd4 = df.loc[df['z'] == -9999]\n",
    "odd4"
   ]
  },
  {
   "cell_type": "code",
   "execution_count": 30,
   "metadata": {},
   "outputs": [
    {
     "data": {
      "text/plain": [
       "(99999, 12)"
      ]
     },
     "execution_count": 30,
     "metadata": {},
     "output_type": "execute_result"
    }
   ],
   "source": [
    "df = df.drop(df.index[79543], axis=0)\n",
    "df.shape"
   ]
  },
  {
   "cell_type": "code",
   "execution_count": 31,
   "metadata": {},
   "outputs": [],
   "source": [
    "df = df.reset_index(drop=True)"
   ]
  },
  {
   "cell_type": "code",
   "execution_count": 32,
   "metadata": {},
   "outputs": [
    {
     "name": "stdout",
     "output_type": "stream",
     "text": [
      "(89999, 12)\n",
      "(10000, 12)\n"
     ]
    }
   ],
   "source": [
    "df_train = df.sample(frac=0.9, random_state=25)\n",
    "df_test = df.drop(df_train.index)\n",
    "print(df_train.shape)\n",
    "print(df_test.shape)"
   ]
  },
  {
   "cell_type": "code",
   "execution_count": 33,
   "metadata": {},
   "outputs": [
    {
     "name": "stdout",
     "output_type": "stream",
     "text": [
      "(71999, 12)\n",
      "(18000, 12)\n"
     ]
    }
   ],
   "source": [
    "df_train1 = df_train.sample(frac=0.8, random_state=20)\n",
    "df_val = df_train.drop(df_train1.index)\n",
    "print(df_train1.shape)\n",
    "print(df_val.shape)"
   ]
  },
  {
   "cell_type": "code",
   "execution_count": 34,
   "metadata": {},
   "outputs": [],
   "source": [
    "t = {'GALAXY':0,'QSO':1,'STAR':2}"
   ]
  },
  {
   "cell_type": "code",
   "execution_count": 35,
   "metadata": {},
   "outputs": [
    {
     "data": {
      "text/html": [
       "<div>\n",
       "<style scoped>\n",
       "    .dataframe tbody tr th:only-of-type {\n",
       "        vertical-align: middle;\n",
       "    }\n",
       "\n",
       "    .dataframe tbody tr th {\n",
       "        vertical-align: top;\n",
       "    }\n",
       "\n",
       "    .dataframe thead th {\n",
       "        text-align: right;\n",
       "    }\n",
       "</style>\n",
       "<table border=\"1\" class=\"dataframe\">\n",
       "  <thead>\n",
       "    <tr style=\"text-align: right;\">\n",
       "      <th></th>\n",
       "      <th>alpha</th>\n",
       "      <th>delta</th>\n",
       "      <th>u</th>\n",
       "      <th>g</th>\n",
       "      <th>r</th>\n",
       "      <th>i</th>\n",
       "      <th>z</th>\n",
       "      <th>spec_obj_ID</th>\n",
       "      <th>class</th>\n",
       "      <th>redshift</th>\n",
       "      <th>plate</th>\n",
       "      <th>MJD</th>\n",
       "      <th>class_enc</th>\n",
       "    </tr>\n",
       "  </thead>\n",
       "  <tbody>\n",
       "    <tr>\n",
       "      <th>94457</th>\n",
       "      <td>172.427892</td>\n",
       "      <td>18.790452</td>\n",
       "      <td>24.64223</td>\n",
       "      <td>22.25799</td>\n",
       "      <td>21.90783</td>\n",
       "      <td>21.04677</td>\n",
       "      <td>20.68865</td>\n",
       "      <td>6.619268e+18</td>\n",
       "      <td>STAR</td>\n",
       "      <td>0.000381</td>\n",
       "      <td>5879</td>\n",
       "      <td>56047</td>\n",
       "      <td>2</td>\n",
       "    </tr>\n",
       "    <tr>\n",
       "      <th>20973</th>\n",
       "      <td>162.876293</td>\n",
       "      <td>31.838297</td>\n",
       "      <td>22.36357</td>\n",
       "      <td>21.53171</td>\n",
       "      <td>21.15401</td>\n",
       "      <td>21.03201</td>\n",
       "      <td>20.55818</td>\n",
       "      <td>7.256622e+18</td>\n",
       "      <td>QSO</td>\n",
       "      <td>2.147799</td>\n",
       "      <td>6445</td>\n",
       "      <td>56366</td>\n",
       "      <td>1</td>\n",
       "    </tr>\n",
       "    <tr>\n",
       "      <th>42832</th>\n",
       "      <td>54.185294</td>\n",
       "      <td>0.977728</td>\n",
       "      <td>21.11077</td>\n",
       "      <td>18.74387</td>\n",
       "      <td>17.50812</td>\n",
       "      <td>17.01411</td>\n",
       "      <td>16.77351</td>\n",
       "      <td>8.254125e+18</td>\n",
       "      <td>STAR</td>\n",
       "      <td>0.000081</td>\n",
       "      <td>7331</td>\n",
       "      <td>56658</td>\n",
       "      <td>2</td>\n",
       "    </tr>\n",
       "    <tr>\n",
       "      <th>1568</th>\n",
       "      <td>144.515185</td>\n",
       "      <td>31.113963</td>\n",
       "      <td>23.00851</td>\n",
       "      <td>22.65649</td>\n",
       "      <td>22.50306</td>\n",
       "      <td>22.07332</td>\n",
       "      <td>21.45145</td>\n",
       "      <td>1.176015e+19</td>\n",
       "      <td>GALAXY</td>\n",
       "      <td>0.832558</td>\n",
       "      <td>10445</td>\n",
       "      <td>58158</td>\n",
       "      <td>0</td>\n",
       "    </tr>\n",
       "    <tr>\n",
       "      <th>41003</th>\n",
       "      <td>331.238887</td>\n",
       "      <td>0.201204</td>\n",
       "      <td>22.90914</td>\n",
       "      <td>21.54735</td>\n",
       "      <td>21.17424</td>\n",
       "      <td>20.81643</td>\n",
       "      <td>20.60504</td>\n",
       "      <td>1.032006e+19</td>\n",
       "      <td>QSO</td>\n",
       "      <td>3.176916</td>\n",
       "      <td>9166</td>\n",
       "      <td>58051</td>\n",
       "      <td>1</td>\n",
       "    </tr>\n",
       "  </tbody>\n",
       "</table>\n",
       "</div>"
      ],
      "text/plain": [
       "            alpha      delta         u         g         r         i  \\\n",
       "94457  172.427892  18.790452  24.64223  22.25799  21.90783  21.04677   \n",
       "20973  162.876293  31.838297  22.36357  21.53171  21.15401  21.03201   \n",
       "42832   54.185294   0.977728  21.11077  18.74387  17.50812  17.01411   \n",
       "1568   144.515185  31.113963  23.00851  22.65649  22.50306  22.07332   \n",
       "41003  331.238887   0.201204  22.90914  21.54735  21.17424  20.81643   \n",
       "\n",
       "              z   spec_obj_ID   class  redshift  plate    MJD  class_enc  \n",
       "94457  20.68865  6.619268e+18    STAR  0.000381   5879  56047          2  \n",
       "20973  20.55818  7.256622e+18     QSO  2.147799   6445  56366          1  \n",
       "42832  16.77351  8.254125e+18    STAR  0.000081   7331  56658          2  \n",
       "1568   21.45145  1.176015e+19  GALAXY  0.832558  10445  58158          0  \n",
       "41003  20.60504  1.032006e+19     QSO  3.176916   9166  58051          1  "
      ]
     },
     "execution_count": 35,
     "metadata": {},
     "output_type": "execute_result"
    }
   ],
   "source": [
    "df_train['class_enc'] = df_train['class'].map(t)\n",
    "df_val['class_enc'] = df_val['class'].map(t)\n",
    "df_train.head()"
   ]
  },
  {
   "cell_type": "code",
   "execution_count": 36,
   "metadata": {},
   "outputs": [],
   "source": [
    "df_train = df_train.drop(['class'],axis=1)\n",
    "df_val = df_val.drop(['class'], axis=1)\n",
    "df_train = df_train.reset_index(drop=True)\n",
    "df_val = df_val.reset_index(drop=True)"
   ]
  },
  {
   "cell_type": "code",
   "execution_count": 37,
   "metadata": {},
   "outputs": [
    {
     "data": {
      "text/html": [
       "<div>\n",
       "<style scoped>\n",
       "    .dataframe tbody tr th:only-of-type {\n",
       "        vertical-align: middle;\n",
       "    }\n",
       "\n",
       "    .dataframe tbody tr th {\n",
       "        vertical-align: top;\n",
       "    }\n",
       "\n",
       "    .dataframe thead th {\n",
       "        text-align: right;\n",
       "    }\n",
       "</style>\n",
       "<table border=\"1\" class=\"dataframe\">\n",
       "  <thead>\n",
       "    <tr style=\"text-align: right;\">\n",
       "      <th></th>\n",
       "      <th>alpha</th>\n",
       "      <th>delta</th>\n",
       "      <th>u</th>\n",
       "      <th>g</th>\n",
       "      <th>r</th>\n",
       "      <th>i</th>\n",
       "      <th>z</th>\n",
       "      <th>spec_obj_ID</th>\n",
       "      <th>redshift</th>\n",
       "      <th>plate</th>\n",
       "      <th>MJD</th>\n",
       "      <th>class_enc</th>\n",
       "    </tr>\n",
       "  </thead>\n",
       "  <tbody>\n",
       "    <tr>\n",
       "      <th>0</th>\n",
       "      <td>172.427892</td>\n",
       "      <td>18.790452</td>\n",
       "      <td>24.64223</td>\n",
       "      <td>22.25799</td>\n",
       "      <td>21.90783</td>\n",
       "      <td>21.04677</td>\n",
       "      <td>20.68865</td>\n",
       "      <td>6.619268e+18</td>\n",
       "      <td>0.000381</td>\n",
       "      <td>5879</td>\n",
       "      <td>56047</td>\n",
       "      <td>2</td>\n",
       "    </tr>\n",
       "    <tr>\n",
       "      <th>1</th>\n",
       "      <td>331.238887</td>\n",
       "      <td>0.201204</td>\n",
       "      <td>22.90914</td>\n",
       "      <td>21.54735</td>\n",
       "      <td>21.17424</td>\n",
       "      <td>20.81643</td>\n",
       "      <td>20.60504</td>\n",
       "      <td>1.032006e+19</td>\n",
       "      <td>3.176916</td>\n",
       "      <td>9166</td>\n",
       "      <td>58051</td>\n",
       "      <td>1</td>\n",
       "    </tr>\n",
       "    <tr>\n",
       "      <th>2</th>\n",
       "      <td>141.637279</td>\n",
       "      <td>42.088899</td>\n",
       "      <td>25.03010</td>\n",
       "      <td>23.79241</td>\n",
       "      <td>21.48902</td>\n",
       "      <td>20.47543</td>\n",
       "      <td>19.81643</td>\n",
       "      <td>9.342972e+18</td>\n",
       "      <td>0.595731</td>\n",
       "      <td>8298</td>\n",
       "      <td>57390</td>\n",
       "      <td>0</td>\n",
       "    </tr>\n",
       "    <tr>\n",
       "      <th>3</th>\n",
       "      <td>84.873591</td>\n",
       "      <td>-2.153757</td>\n",
       "      <td>21.72150</td>\n",
       "      <td>21.17631</td>\n",
       "      <td>19.22806</td>\n",
       "      <td>18.42299</td>\n",
       "      <td>17.82802</td>\n",
       "      <td>8.172984e+18</td>\n",
       "      <td>0.277057</td>\n",
       "      <td>7259</td>\n",
       "      <td>56603</td>\n",
       "      <td>0</td>\n",
       "    </tr>\n",
       "    <tr>\n",
       "      <th>4</th>\n",
       "      <td>321.649375</td>\n",
       "      <td>2.096375</td>\n",
       "      <td>21.25759</td>\n",
       "      <td>20.10503</td>\n",
       "      <td>20.81921</td>\n",
       "      <td>20.29224</td>\n",
       "      <td>19.06567</td>\n",
       "      <td>1.031569e+19</td>\n",
       "      <td>0.219943</td>\n",
       "      <td>9162</td>\n",
       "      <td>58040</td>\n",
       "      <td>0</td>\n",
       "    </tr>\n",
       "  </tbody>\n",
       "</table>\n",
       "</div>"
      ],
      "text/plain": [
       "        alpha      delta         u         g         r         i         z  \\\n",
       "0  172.427892  18.790452  24.64223  22.25799  21.90783  21.04677  20.68865   \n",
       "1  331.238887   0.201204  22.90914  21.54735  21.17424  20.81643  20.60504   \n",
       "2  141.637279  42.088899  25.03010  23.79241  21.48902  20.47543  19.81643   \n",
       "3   84.873591  -2.153757  21.72150  21.17631  19.22806  18.42299  17.82802   \n",
       "4  321.649375   2.096375  21.25759  20.10503  20.81921  20.29224  19.06567   \n",
       "\n",
       "    spec_obj_ID  redshift  plate    MJD  class_enc  \n",
       "0  6.619268e+18  0.000381   5879  56047          2  \n",
       "1  1.032006e+19  3.176916   9166  58051          1  \n",
       "2  9.342972e+18  0.595731   8298  57390          0  \n",
       "3  8.172984e+18  0.277057   7259  56603          0  \n",
       "4  1.031569e+19  0.219943   9162  58040          0  "
      ]
     },
     "execution_count": 37,
     "metadata": {},
     "output_type": "execute_result"
    }
   ],
   "source": [
    "df_val.head()"
   ]
  },
  {
   "cell_type": "code",
   "execution_count": 38,
   "metadata": {},
   "outputs": [],
   "source": [
    "df_test['class_enc'] = df_test['class'].map(t)\n",
    "df_test = df_test.drop(columns=['class'],axis=1)"
   ]
  },
  {
   "cell_type": "code",
   "execution_count": 39,
   "metadata": {},
   "outputs": [
    {
     "data": {
      "text/plain": [
       "0    53547\n",
       "2    19414\n",
       "1    17038\n",
       "Name: class_enc, dtype: int64"
      ]
     },
     "execution_count": 39,
     "metadata": {},
     "output_type": "execute_result"
    }
   ],
   "source": [
    "df_train['class_enc'].value_counts()"
   ]
  },
  {
   "cell_type": "code",
   "execution_count": 40,
   "metadata": {},
   "outputs": [
    {
     "data": {
      "text/plain": [
       "(107999, 12)"
      ]
     },
     "execution_count": 40,
     "metadata": {},
     "output_type": "execute_result"
    }
   ],
   "source": [
    "df_com = pd.concat([df_train,df_val])\n",
    "df_com.shape"
   ]
  },
  {
   "cell_type": "code",
   "execution_count": 41,
   "metadata": {},
   "outputs": [],
   "source": [
    "from sklearn.preprocessing import OneHotEncoder\n",
    "\n",
    "enc = OneHotEncoder()\n",
    "\n",
    "X = df_com.drop(columns=['class_enc'],axis=1)\n",
    "y = df_com['class_enc']\n",
    "\n",
    "from sklearn.preprocessing import StandardScaler\n",
    "\n",
    "ss = StandardScaler()\n",
    "ss.fit(X)\n",
    "X = pd.DataFrame(ss.transform(X))"
   ]
  },
  {
   "cell_type": "code",
   "execution_count": 42,
   "metadata": {},
   "outputs": [],
   "source": [
    "from tensorflow.keras.utils import to_categorical\n",
    "\n",
    "y_cat = to_categorical(y)"
   ]
  },
  {
   "cell_type": "code",
   "execution_count": 43,
   "metadata": {},
   "outputs": [
    {
     "data": {
      "text/plain": [
       "array([[0., 0., 1.],\n",
       "       [0., 1., 0.],\n",
       "       [0., 0., 1.],\n",
       "       ...,\n",
       "       [1., 0., 0.],\n",
       "       [1., 0., 0.],\n",
       "       [1., 0., 0.]], dtype=float32)"
      ]
     },
     "execution_count": 43,
     "metadata": {},
     "output_type": "execute_result"
    }
   ],
   "source": [
    "y_cat"
   ]
  },
  {
   "cell_type": "code",
   "execution_count": 44,
   "metadata": {},
   "outputs": [],
   "source": [
    "from sklearn.model_selection import train_test_split\n",
    "\n",
    "x_train,x_test,y_train,y_test = train_test_split(X.values,y_cat, test_size=0.2) "
   ]
  },
  {
   "cell_type": "code",
   "execution_count": 45,
   "metadata": {},
   "outputs": [],
   "source": [
    "from tensorflow import keras\n",
    "from tensorflow.keras.callbacks import EarlyStopping\n",
    "import matplotlib.pyplot as plt\n",
    "\n",
    "#model = keras.Sequential()\n",
    "#model.add(keras.layers.InputLayer(input_shape=(16,)))\n",
    "#model.add(keras.layers.Dense(30, activation='relu'))\n",
    "#model.add(keras.layers.Dense(3, activation='softmax'))\n",
    "\n",
    "#early_stopping = EarlyStopping(patience=5, restore_best_weights=True)"
   ]
  },
  {
   "cell_type": "code",
   "execution_count": 46,
   "metadata": {},
   "outputs": [],
   "source": [
    "#model.compile(optimizer='Adam', loss='categorical_crossentropy', metrics=['accuracy'])\n",
    "#history = model.fit(x_train, y_train, epochs=1000, batch_size=512, validation_data=(x_test, y_test), callbacks=[early_stopping])\n"
   ]
  },
  {
   "cell_type": "code",
   "execution_count": 47,
   "metadata": {},
   "outputs": [],
   "source": [
    "from sklearn.model_selection import RandomizedSearchCV\n",
    "from tensorflow.keras.wrappers.scikit_learn import KerasClassifier\n",
    "\n",
    "# Define your model architecture\n",
    "model = keras.Sequential([\n",
    "    keras.layers.Dense(33, activation=\"relu\", input_shape=(11,)),\n",
    "    keras.layers.Dense(3, activation=\"softmax\")\n",
    "])"
   ]
  },
  {
   "cell_type": "code",
   "execution_count": 48,
   "metadata": {},
   "outputs": [],
   "source": [
    "# Compile the model\n",
    "model.compile(optimizer=keras.optimizers.Adam(learning_rate=0.0012946740543824272),\n",
    "              loss=\"categorical_crossentropy\",\n",
    "              metrics=[\"accuracy\"])"
   ]
  },
  {
   "cell_type": "code",
   "execution_count": 49,
   "metadata": {},
   "outputs": [
    {
     "name": "stdout",
     "output_type": "stream",
     "text": [
      "Epoch 1/150\n",
      "169/169 [==============================] - 1s 3ms/step - loss: 0.6298 - accuracy: 0.7740 - val_loss: 0.4363 - val_accuracy: 0.8560\n",
      "Epoch 2/150\n",
      "169/169 [==============================] - 0s 3ms/step - loss: 0.3630 - accuracy: 0.8751 - val_loss: 0.3070 - val_accuracy: 0.8965\n",
      "Epoch 3/150\n",
      "169/169 [==============================] - 1s 3ms/step - loss: 0.2693 - accuracy: 0.9149 - val_loss: 0.2446 - val_accuracy: 0.9256\n",
      "Epoch 4/150\n",
      "169/169 [==============================] - 0s 3ms/step - loss: 0.2244 - accuracy: 0.9314 - val_loss: 0.2121 - val_accuracy: 0.9338\n",
      "Epoch 5/150\n",
      "169/169 [==============================] - 1s 3ms/step - loss: 0.2004 - accuracy: 0.9391 - val_loss: 0.1936 - val_accuracy: 0.9400\n",
      "Epoch 6/150\n",
      "169/169 [==============================] - 0s 3ms/step - loss: 0.1846 - accuracy: 0.9438 - val_loss: 0.1800 - val_accuracy: 0.9444\n",
      "Epoch 7/150\n",
      "169/169 [==============================] - 1s 3ms/step - loss: 0.1738 - accuracy: 0.9480 - val_loss: 0.1704 - val_accuracy: 0.9482\n",
      "Epoch 8/150\n",
      "169/169 [==============================] - 1s 3ms/step - loss: 0.1648 - accuracy: 0.9516 - val_loss: 0.1629 - val_accuracy: 0.9510\n",
      "Epoch 9/150\n",
      "169/169 [==============================] - 0s 3ms/step - loss: 0.1582 - accuracy: 0.9536 - val_loss: 0.1553 - val_accuracy: 0.9530\n",
      "Epoch 10/150\n",
      "169/169 [==============================] - 0s 3ms/step - loss: 0.1523 - accuracy: 0.9560 - val_loss: 0.1510 - val_accuracy: 0.9549\n",
      "Epoch 11/150\n",
      "169/169 [==============================] - 0s 3ms/step - loss: 0.1475 - accuracy: 0.9573 - val_loss: 0.1462 - val_accuracy: 0.9556\n",
      "Epoch 12/150\n",
      "169/169 [==============================] - 0s 3ms/step - loss: 0.1434 - accuracy: 0.9586 - val_loss: 0.1431 - val_accuracy: 0.9572\n",
      "Epoch 13/150\n",
      "169/169 [==============================] - 1s 3ms/step - loss: 0.1400 - accuracy: 0.9597 - val_loss: 0.1397 - val_accuracy: 0.9586\n",
      "Epoch 14/150\n",
      "169/169 [==============================] - 0s 3ms/step - loss: 0.1368 - accuracy: 0.9603 - val_loss: 0.1360 - val_accuracy: 0.9600\n",
      "Epoch 15/150\n",
      "169/169 [==============================] - 1s 3ms/step - loss: 0.1343 - accuracy: 0.9610 - val_loss: 0.1328 - val_accuracy: 0.9602\n",
      "Epoch 16/150\n",
      "169/169 [==============================] - 1s 3ms/step - loss: 0.1318 - accuracy: 0.9616 - val_loss: 0.1321 - val_accuracy: 0.9613\n",
      "Epoch 17/150\n",
      "169/169 [==============================] - 1s 3ms/step - loss: 0.1298 - accuracy: 0.9622 - val_loss: 0.1283 - val_accuracy: 0.9614\n",
      "Epoch 18/150\n",
      "169/169 [==============================] - 1s 3ms/step - loss: 0.1278 - accuracy: 0.9629 - val_loss: 0.1263 - val_accuracy: 0.9625\n",
      "Epoch 19/150\n",
      "169/169 [==============================] - 1s 4ms/step - loss: 0.1262 - accuracy: 0.9630 - val_loss: 0.1250 - val_accuracy: 0.9625\n",
      "Epoch 20/150\n",
      "169/169 [==============================] - 1s 3ms/step - loss: 0.1246 - accuracy: 0.9634 - val_loss: 0.1235 - val_accuracy: 0.9631\n",
      "Epoch 21/150\n",
      "169/169 [==============================] - 1s 3ms/step - loss: 0.1229 - accuracy: 0.9639 - val_loss: 0.1216 - val_accuracy: 0.9630\n",
      "Epoch 22/150\n",
      "169/169 [==============================] - 1s 3ms/step - loss: 0.1215 - accuracy: 0.9643 - val_loss: 0.1204 - val_accuracy: 0.9638\n",
      "Epoch 23/150\n",
      "169/169 [==============================] - 1s 3ms/step - loss: 0.1202 - accuracy: 0.9651 - val_loss: 0.1192 - val_accuracy: 0.9639\n",
      "Epoch 24/150\n",
      "169/169 [==============================] - 1s 3ms/step - loss: 0.1188 - accuracy: 0.9655 - val_loss: 0.1179 - val_accuracy: 0.9645\n",
      "Epoch 25/150\n",
      "169/169 [==============================] - 1s 3ms/step - loss: 0.1177 - accuracy: 0.9656 - val_loss: 0.1160 - val_accuracy: 0.9655\n",
      "Epoch 26/150\n",
      "169/169 [==============================] - 1s 3ms/step - loss: 0.1163 - accuracy: 0.9664 - val_loss: 0.1154 - val_accuracy: 0.9657\n",
      "Epoch 27/150\n",
      "169/169 [==============================] - 1s 3ms/step - loss: 0.1155 - accuracy: 0.9663 - val_loss: 0.1146 - val_accuracy: 0.9652\n",
      "Epoch 28/150\n",
      "169/169 [==============================] - 1s 3ms/step - loss: 0.1145 - accuracy: 0.9670 - val_loss: 0.1127 - val_accuracy: 0.9660\n",
      "Epoch 29/150\n",
      "169/169 [==============================] - 1s 3ms/step - loss: 0.1135 - accuracy: 0.9668 - val_loss: 0.1123 - val_accuracy: 0.9671\n",
      "Epoch 30/150\n",
      "169/169 [==============================] - 1s 4ms/step - loss: 0.1125 - accuracy: 0.9674 - val_loss: 0.1119 - val_accuracy: 0.9667\n",
      "Epoch 31/150\n",
      "169/169 [==============================] - 1s 4ms/step - loss: 0.1119 - accuracy: 0.9676 - val_loss: 0.1106 - val_accuracy: 0.9670\n",
      "Epoch 32/150\n",
      "169/169 [==============================] - 1s 4ms/step - loss: 0.1113 - accuracy: 0.9675 - val_loss: 0.1100 - val_accuracy: 0.9671\n",
      "Epoch 33/150\n",
      "169/169 [==============================] - 1s 3ms/step - loss: 0.1104 - accuracy: 0.9679 - val_loss: 0.1094 - val_accuracy: 0.9675\n",
      "Epoch 34/150\n",
      "169/169 [==============================] - 1s 4ms/step - loss: 0.1097 - accuracy: 0.9680 - val_loss: 0.1121 - val_accuracy: 0.9663\n",
      "Epoch 35/150\n",
      "169/169 [==============================] - 1s 4ms/step - loss: 0.1091 - accuracy: 0.9680 - val_loss: 0.1080 - val_accuracy: 0.9680\n",
      "Epoch 36/150\n",
      "169/169 [==============================] - 1s 4ms/step - loss: 0.1084 - accuracy: 0.9682 - val_loss: 0.1082 - val_accuracy: 0.9669\n",
      "Epoch 37/150\n",
      "169/169 [==============================] - 1s 3ms/step - loss: 0.1078 - accuracy: 0.9684 - val_loss: 0.1072 - val_accuracy: 0.9678\n",
      "Epoch 38/150\n",
      "169/169 [==============================] - 1s 4ms/step - loss: 0.1075 - accuracy: 0.9686 - val_loss: 0.1072 - val_accuracy: 0.9684\n",
      "Epoch 39/150\n",
      "169/169 [==============================] - 1s 4ms/step - loss: 0.1071 - accuracy: 0.9685 - val_loss: 0.1065 - val_accuracy: 0.9685\n",
      "Epoch 40/150\n",
      "169/169 [==============================] - 1s 4ms/step - loss: 0.1066 - accuracy: 0.9687 - val_loss: 0.1061 - val_accuracy: 0.9679\n",
      "Epoch 41/150\n",
      "169/169 [==============================] - 1s 4ms/step - loss: 0.1059 - accuracy: 0.9688 - val_loss: 0.1055 - val_accuracy: 0.9683\n",
      "Epoch 42/150\n",
      "169/169 [==============================] - 1s 3ms/step - loss: 0.1061 - accuracy: 0.9688 - val_loss: 0.1053 - val_accuracy: 0.9681\n",
      "Epoch 43/150\n",
      "169/169 [==============================] - 1s 3ms/step - loss: 0.1052 - accuracy: 0.9691 - val_loss: 0.1050 - val_accuracy: 0.9683\n",
      "Epoch 44/150\n",
      "169/169 [==============================] - 1s 3ms/step - loss: 0.1050 - accuracy: 0.9690 - val_loss: 0.1041 - val_accuracy: 0.9683\n",
      "Epoch 45/150\n",
      "169/169 [==============================] - 1s 4ms/step - loss: 0.1044 - accuracy: 0.9690 - val_loss: 0.1041 - val_accuracy: 0.9684\n",
      "Epoch 46/150\n",
      "169/169 [==============================] - 1s 4ms/step - loss: 0.1044 - accuracy: 0.9694 - val_loss: 0.1074 - val_accuracy: 0.9663\n",
      "Epoch 47/150\n",
      "169/169 [==============================] - 1s 4ms/step - loss: 0.1042 - accuracy: 0.9693 - val_loss: 0.1035 - val_accuracy: 0.9684\n",
      "Epoch 48/150\n",
      "169/169 [==============================] - 1s 4ms/step - loss: 0.1039 - accuracy: 0.9693 - val_loss: 0.1048 - val_accuracy: 0.9674\n",
      "Epoch 49/150\n",
      "169/169 [==============================] - 1s 4ms/step - loss: 0.1033 - accuracy: 0.9694 - val_loss: 0.1027 - val_accuracy: 0.9685\n",
      "Epoch 50/150\n",
      "169/169 [==============================] - 1s 5ms/step - loss: 0.1028 - accuracy: 0.9697 - val_loss: 0.1026 - val_accuracy: 0.9698\n",
      "Epoch 51/150\n",
      "169/169 [==============================] - 1s 5ms/step - loss: 0.1027 - accuracy: 0.9695 - val_loss: 0.1023 - val_accuracy: 0.9688\n",
      "Epoch 52/150\n",
      "169/169 [==============================] - 1s 4ms/step - loss: 0.1027 - accuracy: 0.9696 - val_loss: 0.1025 - val_accuracy: 0.9693\n",
      "Epoch 53/150\n",
      "169/169 [==============================] - 1s 4ms/step - loss: 0.1020 - accuracy: 0.9701 - val_loss: 0.1020 - val_accuracy: 0.9695\n",
      "Epoch 54/150\n",
      "169/169 [==============================] - 1s 4ms/step - loss: 0.1019 - accuracy: 0.9698 - val_loss: 0.1027 - val_accuracy: 0.9686\n",
      "Epoch 55/150\n",
      "169/169 [==============================] - 1s 3ms/step - loss: 0.1017 - accuracy: 0.9699 - val_loss: 0.1010 - val_accuracy: 0.9692\n",
      "Epoch 56/150\n",
      "169/169 [==============================] - 1s 3ms/step - loss: 0.1013 - accuracy: 0.9700 - val_loss: 0.1013 - val_accuracy: 0.9693\n",
      "Epoch 57/150\n",
      "169/169 [==============================] - 1s 3ms/step - loss: 0.1014 - accuracy: 0.9700 - val_loss: 0.1010 - val_accuracy: 0.9694\n",
      "Epoch 58/150\n",
      "169/169 [==============================] - 1s 3ms/step - loss: 0.1008 - accuracy: 0.9702 - val_loss: 0.1006 - val_accuracy: 0.9697\n",
      "Epoch 59/150\n",
      "169/169 [==============================] - 1s 3ms/step - loss: 0.1010 - accuracy: 0.9702 - val_loss: 0.1007 - val_accuracy: 0.9700\n",
      "Epoch 60/150\n",
      "169/169 [==============================] - 1s 3ms/step - loss: 0.1008 - accuracy: 0.9701 - val_loss: 0.1002 - val_accuracy: 0.9707\n",
      "Epoch 61/150\n",
      "169/169 [==============================] - 1s 3ms/step - loss: 0.1002 - accuracy: 0.9703 - val_loss: 0.1002 - val_accuracy: 0.9695\n",
      "Epoch 62/150\n",
      "169/169 [==============================] - 1s 3ms/step - loss: 0.1002 - accuracy: 0.9703 - val_loss: 0.1005 - val_accuracy: 0.9700\n",
      "Epoch 63/150\n",
      "169/169 [==============================] - 1s 3ms/step - loss: 0.1002 - accuracy: 0.9703 - val_loss: 0.0999 - val_accuracy: 0.9701\n",
      "Epoch 64/150\n",
      "169/169 [==============================] - 1s 3ms/step - loss: 0.1000 - accuracy: 0.9704 - val_loss: 0.1006 - val_accuracy: 0.9690\n",
      "Epoch 65/150\n",
      "169/169 [==============================] - 1s 4ms/step - loss: 0.0998 - accuracy: 0.9704 - val_loss: 0.1003 - val_accuracy: 0.9702\n",
      "Epoch 66/150\n",
      "169/169 [==============================] - 1s 3ms/step - loss: 0.0998 - accuracy: 0.9703 - val_loss: 0.0997 - val_accuracy: 0.9700\n",
      "Epoch 67/150\n",
      "169/169 [==============================] - 1s 3ms/step - loss: 0.0992 - accuracy: 0.9706 - val_loss: 0.1000 - val_accuracy: 0.9703\n",
      "Epoch 68/150\n",
      "169/169 [==============================] - 1s 3ms/step - loss: 0.0991 - accuracy: 0.9706 - val_loss: 0.0999 - val_accuracy: 0.9701\n",
      "Epoch 69/150\n",
      "169/169 [==============================] - 1s 4ms/step - loss: 0.0993 - accuracy: 0.9703 - val_loss: 0.0983 - val_accuracy: 0.9706\n",
      "Epoch 70/150\n",
      "169/169 [==============================] - 1s 3ms/step - loss: 0.0989 - accuracy: 0.9707 - val_loss: 0.0988 - val_accuracy: 0.9707\n",
      "Epoch 71/150\n",
      "169/169 [==============================] - 1s 3ms/step - loss: 0.0990 - accuracy: 0.9705 - val_loss: 0.0981 - val_accuracy: 0.9705\n",
      "Epoch 72/150\n",
      "169/169 [==============================] - 1s 3ms/step - loss: 0.0987 - accuracy: 0.9708 - val_loss: 0.0991 - val_accuracy: 0.9700\n",
      "Epoch 73/150\n",
      "169/169 [==============================] - 1s 4ms/step - loss: 0.0990 - accuracy: 0.9707 - val_loss: 0.0982 - val_accuracy: 0.9711\n",
      "Epoch 74/150\n",
      "169/169 [==============================] - 1s 3ms/step - loss: 0.0984 - accuracy: 0.9707 - val_loss: 0.0995 - val_accuracy: 0.9695\n",
      "Epoch 75/150\n",
      "169/169 [==============================] - 1s 3ms/step - loss: 0.0982 - accuracy: 0.9707 - val_loss: 0.0983 - val_accuracy: 0.9700\n",
      "Epoch 76/150\n",
      "169/169 [==============================] - 1s 3ms/step - loss: 0.0979 - accuracy: 0.9710 - val_loss: 0.0977 - val_accuracy: 0.9711\n",
      "Epoch 77/150\n",
      "169/169 [==============================] - 1s 4ms/step - loss: 0.0977 - accuracy: 0.9711 - val_loss: 0.0979 - val_accuracy: 0.9710\n",
      "Epoch 78/150\n",
      "169/169 [==============================] - 1s 4ms/step - loss: 0.0980 - accuracy: 0.9711 - val_loss: 0.0991 - val_accuracy: 0.9708\n",
      "Epoch 79/150\n",
      "169/169 [==============================] - 1s 4ms/step - loss: 0.0978 - accuracy: 0.9707 - val_loss: 0.1009 - val_accuracy: 0.9700\n",
      "Epoch 80/150\n",
      "169/169 [==============================] - 1s 3ms/step - loss: 0.0974 - accuracy: 0.9709 - val_loss: 0.0976 - val_accuracy: 0.9705\n",
      "Epoch 81/150\n",
      "169/169 [==============================] - 1s 3ms/step - loss: 0.0972 - accuracy: 0.9712 - val_loss: 0.0971 - val_accuracy: 0.9711\n",
      "Epoch 82/150\n",
      "169/169 [==============================] - 1s 4ms/step - loss: 0.0974 - accuracy: 0.9711 - val_loss: 0.0972 - val_accuracy: 0.9716\n",
      "Epoch 83/150\n",
      "169/169 [==============================] - 1s 3ms/step - loss: 0.0972 - accuracy: 0.9712 - val_loss: 0.0965 - val_accuracy: 0.9711\n",
      "Epoch 84/150\n",
      "169/169 [==============================] - 1s 3ms/step - loss: 0.0969 - accuracy: 0.9712 - val_loss: 0.0965 - val_accuracy: 0.9706\n",
      "Epoch 85/150\n",
      "169/169 [==============================] - 1s 3ms/step - loss: 0.0971 - accuracy: 0.9711 - val_loss: 0.0982 - val_accuracy: 0.9712\n",
      "Epoch 86/150\n",
      "169/169 [==============================] - 1s 3ms/step - loss: 0.0970 - accuracy: 0.9710 - val_loss: 0.0969 - val_accuracy: 0.9703\n",
      "Epoch 87/150\n",
      "169/169 [==============================] - 1s 3ms/step - loss: 0.0966 - accuracy: 0.9711 - val_loss: 0.0970 - val_accuracy: 0.9706\n",
      "Epoch 88/150\n",
      "169/169 [==============================] - 1s 3ms/step - loss: 0.0967 - accuracy: 0.9710 - val_loss: 0.0965 - val_accuracy: 0.9704\n",
      "Epoch 89/150\n",
      "169/169 [==============================] - 1s 3ms/step - loss: 0.0964 - accuracy: 0.9714 - val_loss: 0.0967 - val_accuracy: 0.9710\n"
     ]
    },
    {
     "data": {
      "text/plain": [
       "<keras.callbacks.History at 0x1b05e6a1fc0>"
      ]
     },
     "execution_count": 49,
     "metadata": {},
     "output_type": "execute_result"
    }
   ],
   "source": [
    "# Train the model\n",
    "model.fit(x_train, y_train, epochs=150, batch_size=512,\n",
    "                    validation_data=(x_test, y_test),\n",
    "                    callbacks=[keras.callbacks.EarlyStopping(patience=5)])"
   ]
  },
  {
   "cell_type": "code",
   "execution_count": 52,
   "metadata": {},
   "outputs": [
    {
     "name": "stdout",
     "output_type": "stream",
     "text": [
      "313/313 [==============================] - 0s 1ms/step\n"
     ]
    }
   ],
   "source": [
    "# Preprocess the test set\n",
    "test_x = df_test.drop(columns=['class_enc'], axis=1)\n",
    "test_y = df_test[['class_enc']]\n",
    "\n",
    "test_x = ss.transform(test_x)\n",
    "\n",
    "# Make predictions\n",
    "pred = model.predict(test_x)\n"
   ]
  },
  {
   "cell_type": "code",
   "execution_count": 53,
   "metadata": {},
   "outputs": [
    {
     "ename": "InvalidArgumentError",
     "evalue": "Graph execution error:\n\nDetected at node 'sequential/dense/MatMul' defined at (most recent call last):\n    File \"c:\\Program Files\\Python310\\lib\\runpy.py\", line 196, in _run_module_as_main\n      return _run_code(code, main_globals, None,\n    File \"c:\\Program Files\\Python310\\lib\\runpy.py\", line 86, in _run_code\n      exec(code, run_globals)\n    File \"C:\\Users\\Dinova\\AppData\\Roaming\\Python\\Python310\\site-packages\\ipykernel_launcher.py\", line 17, in <module>\n      app.launch_new_instance()\n    File \"C:\\Users\\Dinova\\AppData\\Roaming\\Python\\Python310\\site-packages\\traitlets\\config\\application.py\", line 1043, in launch_instance\n      app.start()\n    File \"C:\\Users\\Dinova\\AppData\\Roaming\\Python\\Python310\\site-packages\\ipykernel\\kernelapp.py\", line 725, in start\n      self.io_loop.start()\n    File \"C:\\Users\\Dinova\\AppData\\Roaming\\Python\\Python310\\site-packages\\tornado\\platform\\asyncio.py\", line 195, in start\n      self.asyncio_loop.run_forever()\n    File \"c:\\Program Files\\Python310\\lib\\asyncio\\base_events.py\", line 603, in run_forever\n      self._run_once()\n    File \"c:\\Program Files\\Python310\\lib\\asyncio\\base_events.py\", line 1909, in _run_once\n      handle._run()\n    File \"c:\\Program Files\\Python310\\lib\\asyncio\\events.py\", line 80, in _run\n      self._context.run(self._callback, *self._args)\n    File \"C:\\Users\\Dinova\\AppData\\Roaming\\Python\\Python310\\site-packages\\ipykernel\\kernelbase.py\", line 513, in dispatch_queue\n      await self.process_one()\n    File \"C:\\Users\\Dinova\\AppData\\Roaming\\Python\\Python310\\site-packages\\ipykernel\\kernelbase.py\", line 502, in process_one\n      await dispatch(*args)\n    File \"C:\\Users\\Dinova\\AppData\\Roaming\\Python\\Python310\\site-packages\\ipykernel\\kernelbase.py\", line 409, in dispatch_shell\n      await result\n    File \"C:\\Users\\Dinova\\AppData\\Roaming\\Python\\Python310\\site-packages\\ipykernel\\kernelbase.py\", line 729, in execute_request\n      reply_content = await reply_content\n    File \"C:\\Users\\Dinova\\AppData\\Roaming\\Python\\Python310\\site-packages\\ipykernel\\ipkernel.py\", line 422, in do_execute\n      res = shell.run_cell(\n    File \"C:\\Users\\Dinova\\AppData\\Roaming\\Python\\Python310\\site-packages\\ipykernel\\zmqshell.py\", line 540, in run_cell\n      return super().run_cell(*args, **kwargs)\n    File \"C:\\Users\\Dinova\\AppData\\Roaming\\Python\\Python310\\site-packages\\IPython\\core\\interactiveshell.py\", line 3009, in run_cell\n      result = self._run_cell(\n    File \"C:\\Users\\Dinova\\AppData\\Roaming\\Python\\Python310\\site-packages\\IPython\\core\\interactiveshell.py\", line 3064, in _run_cell\n      result = runner(coro)\n    File \"C:\\Users\\Dinova\\AppData\\Roaming\\Python\\Python310\\site-packages\\IPython\\core\\async_helpers.py\", line 129, in _pseudo_sync_runner\n      coro.send(None)\n    File \"C:\\Users\\Dinova\\AppData\\Roaming\\Python\\Python310\\site-packages\\IPython\\core\\interactiveshell.py\", line 3269, in run_cell_async\n      has_raised = await self.run_ast_nodes(code_ast.body, cell_name,\n    File \"C:\\Users\\Dinova\\AppData\\Roaming\\Python\\Python310\\site-packages\\IPython\\core\\interactiveshell.py\", line 3448, in run_ast_nodes\n      if await self.run_code(code, result, async_=asy):\n    File \"C:\\Users\\Dinova\\AppData\\Roaming\\Python\\Python310\\site-packages\\IPython\\core\\interactiveshell.py\", line 3508, in run_code\n      exec(code_obj, self.user_global_ns, self.user_ns)\n    File \"C:\\Users\\Dinova\\AppData\\Local\\Temp\\ipykernel_3064\\4041589034.py\", line 1, in <module>\n      output_probabilities = model.predict(pred)\n    File \"C:\\Users\\Dinova\\AppData\\Roaming\\Python\\Python310\\site-packages\\keras\\utils\\traceback_utils.py\", line 65, in error_handler\n      return fn(*args, **kwargs)\n    File \"C:\\Users\\Dinova\\AppData\\Roaming\\Python\\Python310\\site-packages\\keras\\engine\\training.py\", line 2253, in predict\n      tmp_batch_outputs = self.predict_function(iterator)\n    File \"C:\\Users\\Dinova\\AppData\\Roaming\\Python\\Python310\\site-packages\\keras\\engine\\training.py\", line 2041, in predict_function\n      return step_function(self, iterator)\n    File \"C:\\Users\\Dinova\\AppData\\Roaming\\Python\\Python310\\site-packages\\keras\\engine\\training.py\", line 2027, in step_function\n      outputs = model.distribute_strategy.run(run_step, args=(data,))\n    File \"C:\\Users\\Dinova\\AppData\\Roaming\\Python\\Python310\\site-packages\\keras\\engine\\training.py\", line 2015, in run_step\n      outputs = model.predict_step(data)\n    File \"C:\\Users\\Dinova\\AppData\\Roaming\\Python\\Python310\\site-packages\\keras\\engine\\training.py\", line 1983, in predict_step\n      return self(x, training=False)\n    File \"C:\\Users\\Dinova\\AppData\\Roaming\\Python\\Python310\\site-packages\\keras\\utils\\traceback_utils.py\", line 65, in error_handler\n      return fn(*args, **kwargs)\n    File \"C:\\Users\\Dinova\\AppData\\Roaming\\Python\\Python310\\site-packages\\keras\\engine\\training.py\", line 557, in __call__\n      return super().__call__(*args, **kwargs)\n    File \"C:\\Users\\Dinova\\AppData\\Roaming\\Python\\Python310\\site-packages\\keras\\utils\\traceback_utils.py\", line 65, in error_handler\n      return fn(*args, **kwargs)\n    File \"C:\\Users\\Dinova\\AppData\\Roaming\\Python\\Python310\\site-packages\\keras\\engine\\base_layer.py\", line 1097, in __call__\n      outputs = call_fn(inputs, *args, **kwargs)\n    File \"C:\\Users\\Dinova\\AppData\\Roaming\\Python\\Python310\\site-packages\\keras\\utils\\traceback_utils.py\", line 96, in error_handler\n      return fn(*args, **kwargs)\n    File \"C:\\Users\\Dinova\\AppData\\Roaming\\Python\\Python310\\site-packages\\keras\\engine\\sequential.py\", line 410, in call\n      return super().call(inputs, training=training, mask=mask)\n    File \"C:\\Users\\Dinova\\AppData\\Roaming\\Python\\Python310\\site-packages\\keras\\engine\\functional.py\", line 510, in call\n      return self._run_internal_graph(inputs, training=training, mask=mask)\n    File \"C:\\Users\\Dinova\\AppData\\Roaming\\Python\\Python310\\site-packages\\keras\\engine\\functional.py\", line 667, in _run_internal_graph\n      outputs = node.layer(*args, **kwargs)\n    File \"C:\\Users\\Dinova\\AppData\\Roaming\\Python\\Python310\\site-packages\\keras\\utils\\traceback_utils.py\", line 65, in error_handler\n      return fn(*args, **kwargs)\n    File \"C:\\Users\\Dinova\\AppData\\Roaming\\Python\\Python310\\site-packages\\keras\\engine\\base_layer.py\", line 1097, in __call__\n      outputs = call_fn(inputs, *args, **kwargs)\n    File \"C:\\Users\\Dinova\\AppData\\Roaming\\Python\\Python310\\site-packages\\keras\\utils\\traceback_utils.py\", line 96, in error_handler\n      return fn(*args, **kwargs)\n    File \"C:\\Users\\Dinova\\AppData\\Roaming\\Python\\Python310\\site-packages\\keras\\layers\\core\\dense.py\", line 241, in call\n      outputs = tf.matmul(a=inputs, b=self.kernel)\nNode: 'sequential/dense/MatMul'\nMatrix size-incompatible: In[0]: [32,3], In[1]: [11,33]\n\t [[{{node sequential/dense/MatMul}}]] [Op:__inference_predict_function_80184]",
     "output_type": "error",
     "traceback": [
      "\u001b[1;31m---------------------------------------------------------------------------\u001b[0m",
      "\u001b[1;31mInvalidArgumentError\u001b[0m                      Traceback (most recent call last)",
      "Cell \u001b[1;32mIn[53], line 1\u001b[0m\n\u001b[1;32m----> 1\u001b[0m output_probabilities \u001b[39m=\u001b[39m model\u001b[39m.\u001b[39;49mpredict(pred)\n\u001b[0;32m      2\u001b[0m predicted_class \u001b[39m=\u001b[39m np\u001b[39m.\u001b[39margmax(output_probabilities)\n",
      "File \u001b[1;32m~\\AppData\\Roaming\\Python\\Python310\\site-packages\\keras\\utils\\traceback_utils.py:70\u001b[0m, in \u001b[0;36mfilter_traceback.<locals>.error_handler\u001b[1;34m(*args, **kwargs)\u001b[0m\n\u001b[0;32m     67\u001b[0m     filtered_tb \u001b[39m=\u001b[39m _process_traceback_frames(e\u001b[39m.\u001b[39m__traceback__)\n\u001b[0;32m     68\u001b[0m     \u001b[39m# To get the full stack trace, call:\u001b[39;00m\n\u001b[0;32m     69\u001b[0m     \u001b[39m# `tf.debugging.disable_traceback_filtering()`\u001b[39;00m\n\u001b[1;32m---> 70\u001b[0m     \u001b[39mraise\u001b[39;00m e\u001b[39m.\u001b[39mwith_traceback(filtered_tb) \u001b[39mfrom\u001b[39;00m \u001b[39mNone\u001b[39;00m\n\u001b[0;32m     71\u001b[0m \u001b[39mfinally\u001b[39;00m:\n\u001b[0;32m     72\u001b[0m     \u001b[39mdel\u001b[39;00m filtered_tb\n",
      "File \u001b[1;32m~\\AppData\\Roaming\\Python\\Python310\\site-packages\\tensorflow\\python\\eager\\execute.py:54\u001b[0m, in \u001b[0;36mquick_execute\u001b[1;34m(op_name, num_outputs, inputs, attrs, ctx, name)\u001b[0m\n\u001b[0;32m     52\u001b[0m \u001b[39mtry\u001b[39;00m:\n\u001b[0;32m     53\u001b[0m   ctx\u001b[39m.\u001b[39mensure_initialized()\n\u001b[1;32m---> 54\u001b[0m   tensors \u001b[39m=\u001b[39m pywrap_tfe\u001b[39m.\u001b[39mTFE_Py_Execute(ctx\u001b[39m.\u001b[39m_handle, device_name, op_name,\n\u001b[0;32m     55\u001b[0m                                       inputs, attrs, num_outputs)\n\u001b[0;32m     56\u001b[0m \u001b[39mexcept\u001b[39;00m core\u001b[39m.\u001b[39m_NotOkStatusException \u001b[39mas\u001b[39;00m e:\n\u001b[0;32m     57\u001b[0m   \u001b[39mif\u001b[39;00m name \u001b[39mis\u001b[39;00m \u001b[39mnot\u001b[39;00m \u001b[39mNone\u001b[39;00m:\n",
      "\u001b[1;31mInvalidArgumentError\u001b[0m: Graph execution error:\n\nDetected at node 'sequential/dense/MatMul' defined at (most recent call last):\n    File \"c:\\Program Files\\Python310\\lib\\runpy.py\", line 196, in _run_module_as_main\n      return _run_code(code, main_globals, None,\n    File \"c:\\Program Files\\Python310\\lib\\runpy.py\", line 86, in _run_code\n      exec(code, run_globals)\n    File \"C:\\Users\\Dinova\\AppData\\Roaming\\Python\\Python310\\site-packages\\ipykernel_launcher.py\", line 17, in <module>\n      app.launch_new_instance()\n    File \"C:\\Users\\Dinova\\AppData\\Roaming\\Python\\Python310\\site-packages\\traitlets\\config\\application.py\", line 1043, in launch_instance\n      app.start()\n    File \"C:\\Users\\Dinova\\AppData\\Roaming\\Python\\Python310\\site-packages\\ipykernel\\kernelapp.py\", line 725, in start\n      self.io_loop.start()\n    File \"C:\\Users\\Dinova\\AppData\\Roaming\\Python\\Python310\\site-packages\\tornado\\platform\\asyncio.py\", line 195, in start\n      self.asyncio_loop.run_forever()\n    File \"c:\\Program Files\\Python310\\lib\\asyncio\\base_events.py\", line 603, in run_forever\n      self._run_once()\n    File \"c:\\Program Files\\Python310\\lib\\asyncio\\base_events.py\", line 1909, in _run_once\n      handle._run()\n    File \"c:\\Program Files\\Python310\\lib\\asyncio\\events.py\", line 80, in _run\n      self._context.run(self._callback, *self._args)\n    File \"C:\\Users\\Dinova\\AppData\\Roaming\\Python\\Python310\\site-packages\\ipykernel\\kernelbase.py\", line 513, in dispatch_queue\n      await self.process_one()\n    File \"C:\\Users\\Dinova\\AppData\\Roaming\\Python\\Python310\\site-packages\\ipykernel\\kernelbase.py\", line 502, in process_one\n      await dispatch(*args)\n    File \"C:\\Users\\Dinova\\AppData\\Roaming\\Python\\Python310\\site-packages\\ipykernel\\kernelbase.py\", line 409, in dispatch_shell\n      await result\n    File \"C:\\Users\\Dinova\\AppData\\Roaming\\Python\\Python310\\site-packages\\ipykernel\\kernelbase.py\", line 729, in execute_request\n      reply_content = await reply_content\n    File \"C:\\Users\\Dinova\\AppData\\Roaming\\Python\\Python310\\site-packages\\ipykernel\\ipkernel.py\", line 422, in do_execute\n      res = shell.run_cell(\n    File \"C:\\Users\\Dinova\\AppData\\Roaming\\Python\\Python310\\site-packages\\ipykernel\\zmqshell.py\", line 540, in run_cell\n      return super().run_cell(*args, **kwargs)\n    File \"C:\\Users\\Dinova\\AppData\\Roaming\\Python\\Python310\\site-packages\\IPython\\core\\interactiveshell.py\", line 3009, in run_cell\n      result = self._run_cell(\n    File \"C:\\Users\\Dinova\\AppData\\Roaming\\Python\\Python310\\site-packages\\IPython\\core\\interactiveshell.py\", line 3064, in _run_cell\n      result = runner(coro)\n    File \"C:\\Users\\Dinova\\AppData\\Roaming\\Python\\Python310\\site-packages\\IPython\\core\\async_helpers.py\", line 129, in _pseudo_sync_runner\n      coro.send(None)\n    File \"C:\\Users\\Dinova\\AppData\\Roaming\\Python\\Python310\\site-packages\\IPython\\core\\interactiveshell.py\", line 3269, in run_cell_async\n      has_raised = await self.run_ast_nodes(code_ast.body, cell_name,\n    File \"C:\\Users\\Dinova\\AppData\\Roaming\\Python\\Python310\\site-packages\\IPython\\core\\interactiveshell.py\", line 3448, in run_ast_nodes\n      if await self.run_code(code, result, async_=asy):\n    File \"C:\\Users\\Dinova\\AppData\\Roaming\\Python\\Python310\\site-packages\\IPython\\core\\interactiveshell.py\", line 3508, in run_code\n      exec(code_obj, self.user_global_ns, self.user_ns)\n    File \"C:\\Users\\Dinova\\AppData\\Local\\Temp\\ipykernel_3064\\4041589034.py\", line 1, in <module>\n      output_probabilities = model.predict(pred)\n    File \"C:\\Users\\Dinova\\AppData\\Roaming\\Python\\Python310\\site-packages\\keras\\utils\\traceback_utils.py\", line 65, in error_handler\n      return fn(*args, **kwargs)\n    File \"C:\\Users\\Dinova\\AppData\\Roaming\\Python\\Python310\\site-packages\\keras\\engine\\training.py\", line 2253, in predict\n      tmp_batch_outputs = self.predict_function(iterator)\n    File \"C:\\Users\\Dinova\\AppData\\Roaming\\Python\\Python310\\site-packages\\keras\\engine\\training.py\", line 2041, in predict_function\n      return step_function(self, iterator)\n    File \"C:\\Users\\Dinova\\AppData\\Roaming\\Python\\Python310\\site-packages\\keras\\engine\\training.py\", line 2027, in step_function\n      outputs = model.distribute_strategy.run(run_step, args=(data,))\n    File \"C:\\Users\\Dinova\\AppData\\Roaming\\Python\\Python310\\site-packages\\keras\\engine\\training.py\", line 2015, in run_step\n      outputs = model.predict_step(data)\n    File \"C:\\Users\\Dinova\\AppData\\Roaming\\Python\\Python310\\site-packages\\keras\\engine\\training.py\", line 1983, in predict_step\n      return self(x, training=False)\n    File \"C:\\Users\\Dinova\\AppData\\Roaming\\Python\\Python310\\site-packages\\keras\\utils\\traceback_utils.py\", line 65, in error_handler\n      return fn(*args, **kwargs)\n    File \"C:\\Users\\Dinova\\AppData\\Roaming\\Python\\Python310\\site-packages\\keras\\engine\\training.py\", line 557, in __call__\n      return super().__call__(*args, **kwargs)\n    File \"C:\\Users\\Dinova\\AppData\\Roaming\\Python\\Python310\\site-packages\\keras\\utils\\traceback_utils.py\", line 65, in error_handler\n      return fn(*args, **kwargs)\n    File \"C:\\Users\\Dinova\\AppData\\Roaming\\Python\\Python310\\site-packages\\keras\\engine\\base_layer.py\", line 1097, in __call__\n      outputs = call_fn(inputs, *args, **kwargs)\n    File \"C:\\Users\\Dinova\\AppData\\Roaming\\Python\\Python310\\site-packages\\keras\\utils\\traceback_utils.py\", line 96, in error_handler\n      return fn(*args, **kwargs)\n    File \"C:\\Users\\Dinova\\AppData\\Roaming\\Python\\Python310\\site-packages\\keras\\engine\\sequential.py\", line 410, in call\n      return super().call(inputs, training=training, mask=mask)\n    File \"C:\\Users\\Dinova\\AppData\\Roaming\\Python\\Python310\\site-packages\\keras\\engine\\functional.py\", line 510, in call\n      return self._run_internal_graph(inputs, training=training, mask=mask)\n    File \"C:\\Users\\Dinova\\AppData\\Roaming\\Python\\Python310\\site-packages\\keras\\engine\\functional.py\", line 667, in _run_internal_graph\n      outputs = node.layer(*args, **kwargs)\n    File \"C:\\Users\\Dinova\\AppData\\Roaming\\Python\\Python310\\site-packages\\keras\\utils\\traceback_utils.py\", line 65, in error_handler\n      return fn(*args, **kwargs)\n    File \"C:\\Users\\Dinova\\AppData\\Roaming\\Python\\Python310\\site-packages\\keras\\engine\\base_layer.py\", line 1097, in __call__\n      outputs = call_fn(inputs, *args, **kwargs)\n    File \"C:\\Users\\Dinova\\AppData\\Roaming\\Python\\Python310\\site-packages\\keras\\utils\\traceback_utils.py\", line 96, in error_handler\n      return fn(*args, **kwargs)\n    File \"C:\\Users\\Dinova\\AppData\\Roaming\\Python\\Python310\\site-packages\\keras\\layers\\core\\dense.py\", line 241, in call\n      outputs = tf.matmul(a=inputs, b=self.kernel)\nNode: 'sequential/dense/MatMul'\nMatrix size-incompatible: In[0]: [32,3], In[1]: [11,33]\n\t [[{{node sequential/dense/MatMul}}]] [Op:__inference_predict_function_80184]"
     ]
    }
   ],
   "source": [
    "output_probabilities = model.predict(pred)\n",
    "predicted_class = np.argmax(output_probabilities)"
   ]
  },
  {
   "cell_type": "code",
   "execution_count": null,
   "metadata": {},
   "outputs": [
    {
     "data": {
      "text/plain": [
       "0.9674"
      ]
     },
     "execution_count": 36,
     "metadata": {},
     "output_type": "execute_result"
    }
   ],
   "source": [
    "sd=[]\n",
    "for i in range(len(pred)):\n",
    "    sd.append(np.argmax(pred[i]))\n",
    "\n",
    "from sklearn.metrics import accuracy_score\n",
    "\n",
    "\n",
    "accuracy_score(test_y,sd) "
   ]
  },
  {
   "cell_type": "code",
   "execution_count": 54,
   "metadata": {},
   "outputs": [],
   "source": [
    "import tensorflow as tf\n",
    "# Save the model\n",
    "model.save('model.h5')"
   ]
  },
  {
   "cell_type": "code",
   "execution_count": 55,
   "metadata": {},
   "outputs": [],
   "source": [
    "# Load the model\n",
    "import tensorflow as tf\n",
    "\n",
    "loaded_model = tf.keras.models.load_model('model.h5')"
   ]
  },
  {
   "cell_type": "code",
   "execution_count": 56,
   "metadata": {},
   "outputs": [
    {
     "data": {
      "text/html": [
       "<div>\n",
       "<style scoped>\n",
       "    .dataframe tbody tr th:only-of-type {\n",
       "        vertical-align: middle;\n",
       "    }\n",
       "\n",
       "    .dataframe tbody tr th {\n",
       "        vertical-align: top;\n",
       "    }\n",
       "\n",
       "    .dataframe thead th {\n",
       "        text-align: right;\n",
       "    }\n",
       "</style>\n",
       "<table border=\"1\" class=\"dataframe\">\n",
       "  <thead>\n",
       "    <tr style=\"text-align: right;\">\n",
       "      <th></th>\n",
       "      <th>alpha</th>\n",
       "      <th>delta</th>\n",
       "      <th>u</th>\n",
       "      <th>g</th>\n",
       "      <th>r</th>\n",
       "      <th>i</th>\n",
       "      <th>z</th>\n",
       "      <th>spec_obj_ID</th>\n",
       "      <th>redshift</th>\n",
       "      <th>plate</th>\n",
       "      <th>MJD</th>\n",
       "    </tr>\n",
       "  </thead>\n",
       "  <tbody>\n",
       "    <tr>\n",
       "      <th>0</th>\n",
       "      <td>135.689107</td>\n",
       "      <td>32.494632</td>\n",
       "      <td>23.87882</td>\n",
       "      <td>23.87882</td>\n",
       "      <td>20.39501</td>\n",
       "      <td>19.16573</td>\n",
       "      <td>18.79371</td>\n",
       "      <td>6.619268e+18</td>\n",
       "      <td>0.000381</td>\n",
       "      <td>5879</td>\n",
       "      <td>56047</td>\n",
       "    </tr>\n",
       "  </tbody>\n",
       "</table>\n",
       "</div>"
      ],
      "text/plain": [
       "        alpha      delta         u         g         r         i         z  \\\n",
       "0  135.689107  32.494632  23.87882  23.87882  20.39501  19.16573  18.79371   \n",
       "\n",
       "    spec_obj_ID  redshift  plate    MJD  \n",
       "0  6.619268e+18  0.000381   5879  56047  "
      ]
     },
     "execution_count": 56,
     "metadata": {},
     "output_type": "execute_result"
    }
   ],
   "source": [
    "import pandas as pd\n",
    "\n",
    "df = pd.read_csv('data.csv')\n",
    "df.head()"
   ]
  },
  {
   "cell_type": "code",
   "execution_count": 57,
   "metadata": {},
   "outputs": [
    {
     "name": "stdout",
     "output_type": "stream",
     "text": [
      "1/1 [==============================] - 0s 44ms/step\n"
     ]
    }
   ],
   "source": [
    "predictions = loaded_model.predict(df)"
   ]
  },
  {
   "cell_type": "code",
   "execution_count": 58,
   "metadata": {},
   "outputs": [
    {
     "name": "stdout",
     "output_type": "stream",
     "text": [
      "1/1 [==============================] - 0s 18ms/step\n"
     ]
    }
   ],
   "source": [
    "import numpy as np\n",
    "\n",
    "output_probabilities =loaded_model.predict(df)\n",
    "predicted_class = np.argmax(output_probabilities)"
   ]
  },
  {
   "cell_type": "code",
   "execution_count": 59,
   "metadata": {},
   "outputs": [
    {
     "name": "stdout",
     "output_type": "stream",
     "text": [
      "1\n"
     ]
    }
   ],
   "source": [
    "print(predicted_class)"
   ]
  },
  {
   "cell_type": "code",
   "execution_count": 60,
   "metadata": {},
   "outputs": [
    {
     "data": {
      "text/plain": [
       "['scaling.pkl']"
      ]
     },
     "execution_count": 60,
     "metadata": {},
     "output_type": "execute_result"
    }
   ],
   "source": [
    "import joblib\n",
    "joblib.dump(ss, 'scaling.pkl')"
   ]
  }
 ],
 "metadata": {
  "kernelspec": {
   "display_name": "Python 3",
   "language": "python",
   "name": "python3"
  },
  "language_info": {
   "codemirror_mode": {
    "name": "ipython",
    "version": 3
   },
   "file_extension": ".py",
   "mimetype": "text/x-python",
   "name": "python",
   "nbconvert_exporter": "python",
   "pygments_lexer": "ipython3",
   "version": "3.10.11"
  },
  "orig_nbformat": 4
 },
 "nbformat": 4,
 "nbformat_minor": 2
}
