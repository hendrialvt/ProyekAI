{
 "cells": [
  {
   "cell_type": "code",
   "execution_count": 1,
   "metadata": {},
   "outputs": [
    {
     "data": {
      "text/html": [
       "<div>\n",
       "<style scoped>\n",
       "    .dataframe tbody tr th:only-of-type {\n",
       "        vertical-align: middle;\n",
       "    }\n",
       "\n",
       "    .dataframe tbody tr th {\n",
       "        vertical-align: top;\n",
       "    }\n",
       "\n",
       "    .dataframe thead th {\n",
       "        text-align: right;\n",
       "    }\n",
       "</style>\n",
       "<table border=\"1\" class=\"dataframe\">\n",
       "  <thead>\n",
       "    <tr style=\"text-align: right;\">\n",
       "      <th></th>\n",
       "      <th>obj_ID</th>\n",
       "      <th>alpha</th>\n",
       "      <th>delta</th>\n",
       "      <th>u</th>\n",
       "      <th>g</th>\n",
       "      <th>r</th>\n",
       "      <th>i</th>\n",
       "      <th>z</th>\n",
       "      <th>run_ID</th>\n",
       "      <th>rerun_ID</th>\n",
       "      <th>cam_col</th>\n",
       "      <th>field_ID</th>\n",
       "      <th>spec_obj_ID</th>\n",
       "      <th>class</th>\n",
       "      <th>redshift</th>\n",
       "      <th>plate</th>\n",
       "      <th>MJD</th>\n",
       "      <th>fiber_ID</th>\n",
       "    </tr>\n",
       "  </thead>\n",
       "  <tbody>\n",
       "    <tr>\n",
       "      <th>0</th>\n",
       "      <td>1.237661e+18</td>\n",
       "      <td>135.689107</td>\n",
       "      <td>32.494632</td>\n",
       "      <td>23.87882</td>\n",
       "      <td>22.27530</td>\n",
       "      <td>20.39501</td>\n",
       "      <td>19.16573</td>\n",
       "      <td>18.79371</td>\n",
       "      <td>3606</td>\n",
       "      <td>301</td>\n",
       "      <td>2</td>\n",
       "      <td>79</td>\n",
       "      <td>6.543777e+18</td>\n",
       "      <td>GALAXY</td>\n",
       "      <td>0.634794</td>\n",
       "      <td>5812</td>\n",
       "      <td>56354</td>\n",
       "      <td>171</td>\n",
       "    </tr>\n",
       "    <tr>\n",
       "      <th>1</th>\n",
       "      <td>1.237665e+18</td>\n",
       "      <td>144.826101</td>\n",
       "      <td>31.274185</td>\n",
       "      <td>24.77759</td>\n",
       "      <td>22.83188</td>\n",
       "      <td>22.58444</td>\n",
       "      <td>21.16812</td>\n",
       "      <td>21.61427</td>\n",
       "      <td>4518</td>\n",
       "      <td>301</td>\n",
       "      <td>5</td>\n",
       "      <td>119</td>\n",
       "      <td>1.176014e+19</td>\n",
       "      <td>GALAXY</td>\n",
       "      <td>0.779136</td>\n",
       "      <td>10445</td>\n",
       "      <td>58158</td>\n",
       "      <td>427</td>\n",
       "    </tr>\n",
       "    <tr>\n",
       "      <th>2</th>\n",
       "      <td>1.237661e+18</td>\n",
       "      <td>142.188790</td>\n",
       "      <td>35.582444</td>\n",
       "      <td>25.26307</td>\n",
       "      <td>22.66389</td>\n",
       "      <td>20.60976</td>\n",
       "      <td>19.34857</td>\n",
       "      <td>18.94827</td>\n",
       "      <td>3606</td>\n",
       "      <td>301</td>\n",
       "      <td>2</td>\n",
       "      <td>120</td>\n",
       "      <td>5.152200e+18</td>\n",
       "      <td>GALAXY</td>\n",
       "      <td>0.644195</td>\n",
       "      <td>4576</td>\n",
       "      <td>55592</td>\n",
       "      <td>299</td>\n",
       "    </tr>\n",
       "    <tr>\n",
       "      <th>3</th>\n",
       "      <td>1.237663e+18</td>\n",
       "      <td>338.741038</td>\n",
       "      <td>-0.402828</td>\n",
       "      <td>22.13682</td>\n",
       "      <td>23.77656</td>\n",
       "      <td>21.61162</td>\n",
       "      <td>20.50454</td>\n",
       "      <td>19.25010</td>\n",
       "      <td>4192</td>\n",
       "      <td>301</td>\n",
       "      <td>3</td>\n",
       "      <td>214</td>\n",
       "      <td>1.030107e+19</td>\n",
       "      <td>GALAXY</td>\n",
       "      <td>0.932346</td>\n",
       "      <td>9149</td>\n",
       "      <td>58039</td>\n",
       "      <td>775</td>\n",
       "    </tr>\n",
       "    <tr>\n",
       "      <th>4</th>\n",
       "      <td>1.237680e+18</td>\n",
       "      <td>345.282593</td>\n",
       "      <td>21.183866</td>\n",
       "      <td>19.43718</td>\n",
       "      <td>17.58028</td>\n",
       "      <td>16.49747</td>\n",
       "      <td>15.97711</td>\n",
       "      <td>15.54461</td>\n",
       "      <td>8102</td>\n",
       "      <td>301</td>\n",
       "      <td>3</td>\n",
       "      <td>137</td>\n",
       "      <td>6.891865e+18</td>\n",
       "      <td>GALAXY</td>\n",
       "      <td>0.116123</td>\n",
       "      <td>6121</td>\n",
       "      <td>56187</td>\n",
       "      <td>842</td>\n",
       "    </tr>\n",
       "  </tbody>\n",
       "</table>\n",
       "</div>"
      ],
      "text/plain": [
       "         obj_ID       alpha      delta         u         g         r  \\\n",
       "0  1.237661e+18  135.689107  32.494632  23.87882  22.27530  20.39501   \n",
       "1  1.237665e+18  144.826101  31.274185  24.77759  22.83188  22.58444   \n",
       "2  1.237661e+18  142.188790  35.582444  25.26307  22.66389  20.60976   \n",
       "3  1.237663e+18  338.741038  -0.402828  22.13682  23.77656  21.61162   \n",
       "4  1.237680e+18  345.282593  21.183866  19.43718  17.58028  16.49747   \n",
       "\n",
       "          i         z  run_ID  rerun_ID  cam_col  field_ID   spec_obj_ID  \\\n",
       "0  19.16573  18.79371    3606       301        2        79  6.543777e+18   \n",
       "1  21.16812  21.61427    4518       301        5       119  1.176014e+19   \n",
       "2  19.34857  18.94827    3606       301        2       120  5.152200e+18   \n",
       "3  20.50454  19.25010    4192       301        3       214  1.030107e+19   \n",
       "4  15.97711  15.54461    8102       301        3       137  6.891865e+18   \n",
       "\n",
       "    class  redshift  plate    MJD  fiber_ID  \n",
       "0  GALAXY  0.634794   5812  56354       171  \n",
       "1  GALAXY  0.779136  10445  58158       427  \n",
       "2  GALAXY  0.644195   4576  55592       299  \n",
       "3  GALAXY  0.932346   9149  58039       775  \n",
       "4  GALAXY  0.116123   6121  56187       842  "
      ]
     },
     "execution_count": 1,
     "metadata": {},
     "output_type": "execute_result"
    }
   ],
   "source": [
    "import pandas as pd\n",
    "import numpy as np\n",
    "#from ydata_profiling import ProfileReport\n",
    "\n",
    "df = pd.read_csv('star_classification.csv')\n",
    "df.head()"
   ]
  },
  {
   "cell_type": "code",
   "execution_count": 2,
   "metadata": {},
   "outputs": [
    {
     "data": {
      "text/plain": [
       "(100000, 18)"
      ]
     },
     "execution_count": 2,
     "metadata": {},
     "output_type": "execute_result"
    }
   ],
   "source": [
    "df.shape"
   ]
  },
  {
   "cell_type": "code",
   "execution_count": 3,
   "metadata": {},
   "outputs": [
    {
     "data": {
      "text/plain": [
       "obj_ID         0\n",
       "alpha          0\n",
       "delta          0\n",
       "u              0\n",
       "g              0\n",
       "r              0\n",
       "i              0\n",
       "z              0\n",
       "run_ID         0\n",
       "rerun_ID       0\n",
       "cam_col        0\n",
       "field_ID       0\n",
       "spec_obj_ID    0\n",
       "class          0\n",
       "redshift       0\n",
       "plate          0\n",
       "MJD            0\n",
       "fiber_ID       0\n",
       "dtype: int64"
      ]
     },
     "execution_count": 3,
     "metadata": {},
     "output_type": "execute_result"
    }
   ],
   "source": [
    "df.isna().sum()"
   ]
  },
  {
   "cell_type": "code",
   "execution_count": 4,
   "metadata": {},
   "outputs": [
    {
     "data": {
      "text/plain": [
       "obj_ID         float64\n",
       "alpha          float64\n",
       "delta          float64\n",
       "u              float64\n",
       "g              float64\n",
       "r              float64\n",
       "i              float64\n",
       "z              float64\n",
       "run_ID           int64\n",
       "rerun_ID         int64\n",
       "cam_col          int64\n",
       "field_ID         int64\n",
       "spec_obj_ID    float64\n",
       "class           object\n",
       "redshift       float64\n",
       "plate            int64\n",
       "MJD              int64\n",
       "fiber_ID         int64\n",
       "dtype: object"
      ]
     },
     "execution_count": 4,
     "metadata": {},
     "output_type": "execute_result"
    }
   ],
   "source": [
    "df.dtypes"
   ]
  },
  {
   "cell_type": "code",
   "execution_count": 5,
   "metadata": {},
   "outputs": [
    {
     "data": {
      "text/plain": [
       "array(['GALAXY', 'QSO', 'STAR'], dtype=object)"
      ]
     },
     "execution_count": 5,
     "metadata": {},
     "output_type": "execute_result"
    }
   ],
   "source": [
    "df['class'].unique()"
   ]
  },
  {
   "cell_type": "code",
   "execution_count": 6,
   "metadata": {},
   "outputs": [
    {
     "data": {
      "text/plain": [
       "GALAXY    59445\n",
       "STAR      21594\n",
       "QSO       18961\n",
       "Name: class, dtype: int64"
      ]
     },
     "execution_count": 6,
     "metadata": {},
     "output_type": "execute_result"
    }
   ],
   "source": [
    "df['class'].value_counts()"
   ]
  },
  {
   "cell_type": "code",
   "execution_count": 7,
   "metadata": {},
   "outputs": [],
   "source": [
    "#profile = ProfileReport(df,title=\"Star Profile Report\")\n",
    "#profile"
   ]
  },
  {
   "cell_type": "code",
   "execution_count": 8,
   "metadata": {},
   "outputs": [
    {
     "data": {
      "text/html": [
       "<div>\n",
       "<style scoped>\n",
       "    .dataframe tbody tr th:only-of-type {\n",
       "        vertical-align: middle;\n",
       "    }\n",
       "\n",
       "    .dataframe tbody tr th {\n",
       "        vertical-align: top;\n",
       "    }\n",
       "\n",
       "    .dataframe thead th {\n",
       "        text-align: right;\n",
       "    }\n",
       "</style>\n",
       "<table border=\"1\" class=\"dataframe\">\n",
       "  <thead>\n",
       "    <tr style=\"text-align: right;\">\n",
       "      <th></th>\n",
       "      <th>obj_ID</th>\n",
       "      <th>alpha</th>\n",
       "      <th>delta</th>\n",
       "      <th>u</th>\n",
       "      <th>g</th>\n",
       "      <th>r</th>\n",
       "      <th>i</th>\n",
       "      <th>z</th>\n",
       "      <th>run_ID</th>\n",
       "      <th>rerun_ID</th>\n",
       "      <th>cam_col</th>\n",
       "      <th>field_ID</th>\n",
       "      <th>spec_obj_ID</th>\n",
       "      <th>class</th>\n",
       "      <th>redshift</th>\n",
       "      <th>plate</th>\n",
       "      <th>MJD</th>\n",
       "      <th>fiber_ID</th>\n",
       "    </tr>\n",
       "  </thead>\n",
       "  <tbody>\n",
       "    <tr>\n",
       "      <th>79543</th>\n",
       "      <td>1.237649e+18</td>\n",
       "      <td>224.006526</td>\n",
       "      <td>-0.624304</td>\n",
       "      <td>-9999.0</td>\n",
       "      <td>-9999.0</td>\n",
       "      <td>18.1656</td>\n",
       "      <td>18.01675</td>\n",
       "      <td>-9999.0</td>\n",
       "      <td>752</td>\n",
       "      <td>301</td>\n",
       "      <td>2</td>\n",
       "      <td>537</td>\n",
       "      <td>3.731277e+18</td>\n",
       "      <td>STAR</td>\n",
       "      <td>0.000089</td>\n",
       "      <td>3314</td>\n",
       "      <td>54970</td>\n",
       "      <td>162</td>\n",
       "    </tr>\n",
       "  </tbody>\n",
       "</table>\n",
       "</div>"
      ],
      "text/plain": [
       "             obj_ID       alpha     delta       u       g        r         i  \\\n",
       "79543  1.237649e+18  224.006526 -0.624304 -9999.0 -9999.0  18.1656  18.01675   \n",
       "\n",
       "            z  run_ID  rerun_ID  cam_col  field_ID   spec_obj_ID class  \\\n",
       "79543 -9999.0     752       301        2       537  3.731277e+18  STAR   \n",
       "\n",
       "       redshift  plate    MJD  fiber_ID  \n",
       "79543  0.000089   3314  54970       162  "
      ]
     },
     "execution_count": 8,
     "metadata": {},
     "output_type": "execute_result"
    }
   ],
   "source": [
    "odd = df.loc[df['u'] == -9999]\n",
    "odd"
   ]
  },
  {
   "cell_type": "code",
   "execution_count": 9,
   "metadata": {},
   "outputs": [
    {
     "data": {
      "text/html": [
       "<div>\n",
       "<style scoped>\n",
       "    .dataframe tbody tr th:only-of-type {\n",
       "        vertical-align: middle;\n",
       "    }\n",
       "\n",
       "    .dataframe tbody tr th {\n",
       "        vertical-align: top;\n",
       "    }\n",
       "\n",
       "    .dataframe thead th {\n",
       "        text-align: right;\n",
       "    }\n",
       "</style>\n",
       "<table border=\"1\" class=\"dataframe\">\n",
       "  <thead>\n",
       "    <tr style=\"text-align: right;\">\n",
       "      <th></th>\n",
       "      <th>obj_ID</th>\n",
       "      <th>alpha</th>\n",
       "      <th>delta</th>\n",
       "      <th>u</th>\n",
       "      <th>g</th>\n",
       "      <th>r</th>\n",
       "      <th>i</th>\n",
       "      <th>z</th>\n",
       "      <th>run_ID</th>\n",
       "      <th>rerun_ID</th>\n",
       "      <th>cam_col</th>\n",
       "      <th>field_ID</th>\n",
       "      <th>spec_obj_ID</th>\n",
       "      <th>class</th>\n",
       "      <th>redshift</th>\n",
       "      <th>plate</th>\n",
       "      <th>MJD</th>\n",
       "      <th>fiber_ID</th>\n",
       "    </tr>\n",
       "  </thead>\n",
       "  <tbody>\n",
       "    <tr>\n",
       "      <th>79543</th>\n",
       "      <td>1.237649e+18</td>\n",
       "      <td>224.006526</td>\n",
       "      <td>-0.624304</td>\n",
       "      <td>-9999.0</td>\n",
       "      <td>-9999.0</td>\n",
       "      <td>18.1656</td>\n",
       "      <td>18.01675</td>\n",
       "      <td>-9999.0</td>\n",
       "      <td>752</td>\n",
       "      <td>301</td>\n",
       "      <td>2</td>\n",
       "      <td>537</td>\n",
       "      <td>3.731277e+18</td>\n",
       "      <td>STAR</td>\n",
       "      <td>0.000089</td>\n",
       "      <td>3314</td>\n",
       "      <td>54970</td>\n",
       "      <td>162</td>\n",
       "    </tr>\n",
       "  </tbody>\n",
       "</table>\n",
       "</div>"
      ],
      "text/plain": [
       "             obj_ID       alpha     delta       u       g        r         i  \\\n",
       "79543  1.237649e+18  224.006526 -0.624304 -9999.0 -9999.0  18.1656  18.01675   \n",
       "\n",
       "            z  run_ID  rerun_ID  cam_col  field_ID   spec_obj_ID class  \\\n",
       "79543 -9999.0     752       301        2       537  3.731277e+18  STAR   \n",
       "\n",
       "       redshift  plate    MJD  fiber_ID  \n",
       "79543  0.000089   3314  54970       162  "
      ]
     },
     "execution_count": 9,
     "metadata": {},
     "output_type": "execute_result"
    }
   ],
   "source": [
    "odd1 = df.loc[df['g'] == -9999]\n",
    "odd1"
   ]
  },
  {
   "cell_type": "code",
   "execution_count": 10,
   "metadata": {},
   "outputs": [
    {
     "data": {
      "text/html": [
       "<div>\n",
       "<style scoped>\n",
       "    .dataframe tbody tr th:only-of-type {\n",
       "        vertical-align: middle;\n",
       "    }\n",
       "\n",
       "    .dataframe tbody tr th {\n",
       "        vertical-align: top;\n",
       "    }\n",
       "\n",
       "    .dataframe thead th {\n",
       "        text-align: right;\n",
       "    }\n",
       "</style>\n",
       "<table border=\"1\" class=\"dataframe\">\n",
       "  <thead>\n",
       "    <tr style=\"text-align: right;\">\n",
       "      <th></th>\n",
       "      <th>obj_ID</th>\n",
       "      <th>alpha</th>\n",
       "      <th>delta</th>\n",
       "      <th>u</th>\n",
       "      <th>g</th>\n",
       "      <th>r</th>\n",
       "      <th>i</th>\n",
       "      <th>z</th>\n",
       "      <th>run_ID</th>\n",
       "      <th>rerun_ID</th>\n",
       "      <th>cam_col</th>\n",
       "      <th>field_ID</th>\n",
       "      <th>spec_obj_ID</th>\n",
       "      <th>class</th>\n",
       "      <th>redshift</th>\n",
       "      <th>plate</th>\n",
       "      <th>MJD</th>\n",
       "      <th>fiber_ID</th>\n",
       "    </tr>\n",
       "  </thead>\n",
       "  <tbody>\n",
       "  </tbody>\n",
       "</table>\n",
       "</div>"
      ],
      "text/plain": [
       "Empty DataFrame\n",
       "Columns: [obj_ID, alpha, delta, u, g, r, i, z, run_ID, rerun_ID, cam_col, field_ID, spec_obj_ID, class, redshift, plate, MJD, fiber_ID]\n",
       "Index: []"
      ]
     },
     "execution_count": 10,
     "metadata": {},
     "output_type": "execute_result"
    }
   ],
   "source": [
    "odd2 = df.loc[df['r'] == -9999]\n",
    "odd2"
   ]
  },
  {
   "cell_type": "code",
   "execution_count": 11,
   "metadata": {},
   "outputs": [
    {
     "data": {
      "text/html": [
       "<div>\n",
       "<style scoped>\n",
       "    .dataframe tbody tr th:only-of-type {\n",
       "        vertical-align: middle;\n",
       "    }\n",
       "\n",
       "    .dataframe tbody tr th {\n",
       "        vertical-align: top;\n",
       "    }\n",
       "\n",
       "    .dataframe thead th {\n",
       "        text-align: right;\n",
       "    }\n",
       "</style>\n",
       "<table border=\"1\" class=\"dataframe\">\n",
       "  <thead>\n",
       "    <tr style=\"text-align: right;\">\n",
       "      <th></th>\n",
       "      <th>obj_ID</th>\n",
       "      <th>alpha</th>\n",
       "      <th>delta</th>\n",
       "      <th>u</th>\n",
       "      <th>g</th>\n",
       "      <th>r</th>\n",
       "      <th>i</th>\n",
       "      <th>z</th>\n",
       "      <th>run_ID</th>\n",
       "      <th>rerun_ID</th>\n",
       "      <th>cam_col</th>\n",
       "      <th>field_ID</th>\n",
       "      <th>spec_obj_ID</th>\n",
       "      <th>class</th>\n",
       "      <th>redshift</th>\n",
       "      <th>plate</th>\n",
       "      <th>MJD</th>\n",
       "      <th>fiber_ID</th>\n",
       "    </tr>\n",
       "  </thead>\n",
       "  <tbody>\n",
       "  </tbody>\n",
       "</table>\n",
       "</div>"
      ],
      "text/plain": [
       "Empty DataFrame\n",
       "Columns: [obj_ID, alpha, delta, u, g, r, i, z, run_ID, rerun_ID, cam_col, field_ID, spec_obj_ID, class, redshift, plate, MJD, fiber_ID]\n",
       "Index: []"
      ]
     },
     "execution_count": 11,
     "metadata": {},
     "output_type": "execute_result"
    }
   ],
   "source": [
    "odd3 = df.loc[df['i'] == -9999]\n",
    "odd3"
   ]
  },
  {
   "cell_type": "code",
   "execution_count": 12,
   "metadata": {},
   "outputs": [
    {
     "data": {
      "text/html": [
       "<div>\n",
       "<style scoped>\n",
       "    .dataframe tbody tr th:only-of-type {\n",
       "        vertical-align: middle;\n",
       "    }\n",
       "\n",
       "    .dataframe tbody tr th {\n",
       "        vertical-align: top;\n",
       "    }\n",
       "\n",
       "    .dataframe thead th {\n",
       "        text-align: right;\n",
       "    }\n",
       "</style>\n",
       "<table border=\"1\" class=\"dataframe\">\n",
       "  <thead>\n",
       "    <tr style=\"text-align: right;\">\n",
       "      <th></th>\n",
       "      <th>obj_ID</th>\n",
       "      <th>alpha</th>\n",
       "      <th>delta</th>\n",
       "      <th>u</th>\n",
       "      <th>g</th>\n",
       "      <th>r</th>\n",
       "      <th>i</th>\n",
       "      <th>z</th>\n",
       "      <th>run_ID</th>\n",
       "      <th>rerun_ID</th>\n",
       "      <th>cam_col</th>\n",
       "      <th>field_ID</th>\n",
       "      <th>spec_obj_ID</th>\n",
       "      <th>class</th>\n",
       "      <th>redshift</th>\n",
       "      <th>plate</th>\n",
       "      <th>MJD</th>\n",
       "      <th>fiber_ID</th>\n",
       "    </tr>\n",
       "  </thead>\n",
       "  <tbody>\n",
       "    <tr>\n",
       "      <th>79543</th>\n",
       "      <td>1.237649e+18</td>\n",
       "      <td>224.006526</td>\n",
       "      <td>-0.624304</td>\n",
       "      <td>-9999.0</td>\n",
       "      <td>-9999.0</td>\n",
       "      <td>18.1656</td>\n",
       "      <td>18.01675</td>\n",
       "      <td>-9999.0</td>\n",
       "      <td>752</td>\n",
       "      <td>301</td>\n",
       "      <td>2</td>\n",
       "      <td>537</td>\n",
       "      <td>3.731277e+18</td>\n",
       "      <td>STAR</td>\n",
       "      <td>0.000089</td>\n",
       "      <td>3314</td>\n",
       "      <td>54970</td>\n",
       "      <td>162</td>\n",
       "    </tr>\n",
       "  </tbody>\n",
       "</table>\n",
       "</div>"
      ],
      "text/plain": [
       "             obj_ID       alpha     delta       u       g        r         i  \\\n",
       "79543  1.237649e+18  224.006526 -0.624304 -9999.0 -9999.0  18.1656  18.01675   \n",
       "\n",
       "            z  run_ID  rerun_ID  cam_col  field_ID   spec_obj_ID class  \\\n",
       "79543 -9999.0     752       301        2       537  3.731277e+18  STAR   \n",
       "\n",
       "       redshift  plate    MJD  fiber_ID  \n",
       "79543  0.000089   3314  54970       162  "
      ]
     },
     "execution_count": 12,
     "metadata": {},
     "output_type": "execute_result"
    }
   ],
   "source": [
    "odd4 = df.loc[df['z'] == -9999]\n",
    "odd4"
   ]
  },
  {
   "cell_type": "code",
   "execution_count": 13,
   "metadata": {},
   "outputs": [
    {
     "data": {
      "text/plain": [
       "(99999, 18)"
      ]
     },
     "execution_count": 13,
     "metadata": {},
     "output_type": "execute_result"
    }
   ],
   "source": [
    "df = df.drop(df.index[79543], axis=0)\n",
    "df.shape"
   ]
  },
  {
   "cell_type": "code",
   "execution_count": 14,
   "metadata": {},
   "outputs": [],
   "source": [
    "df = df.reset_index(drop=True)"
   ]
  },
  {
   "cell_type": "code",
   "execution_count": 15,
   "metadata": {},
   "outputs": [
    {
     "data": {
      "text/plain": [
       "array([301], dtype=int64)"
      ]
     },
     "execution_count": 15,
     "metadata": {},
     "output_type": "execute_result"
    }
   ],
   "source": [
    "df['rerun_ID'].unique()"
   ]
  },
  {
   "cell_type": "code",
   "execution_count": 16,
   "metadata": {},
   "outputs": [],
   "source": [
    "df = df.drop(columns = ['rerun_ID'],axis=1)"
   ]
  },
  {
   "cell_type": "code",
   "execution_count": 17,
   "metadata": {},
   "outputs": [
    {
     "name": "stdout",
     "output_type": "stream",
     "text": [
      "(89999, 17)\n",
      "(10000, 17)\n"
     ]
    }
   ],
   "source": [
    "df_train = df.sample(frac=0.9, random_state=25)\n",
    "df_test = df.drop(df_train.index)\n",
    "print(df_train.shape)\n",
    "print(df_test.shape)"
   ]
  },
  {
   "cell_type": "code",
   "execution_count": 18,
   "metadata": {},
   "outputs": [
    {
     "name": "stdout",
     "output_type": "stream",
     "text": [
      "(71999, 17)\n",
      "(18000, 17)\n"
     ]
    }
   ],
   "source": [
    "df_train1 = df_train.sample(frac=0.8, random_state=20)\n",
    "df_val = df_train.drop(df_train1.index)\n",
    "print(df_train1.shape)\n",
    "print(df_val.shape)"
   ]
  },
  {
   "cell_type": "code",
   "execution_count": 19,
   "metadata": {},
   "outputs": [],
   "source": [
    "t = {'GALAXY':0,'QSO':1,'STAR':2}"
   ]
  },
  {
   "cell_type": "code",
   "execution_count": 20,
   "metadata": {},
   "outputs": [
    {
     "data": {
      "text/html": [
       "<div>\n",
       "<style scoped>\n",
       "    .dataframe tbody tr th:only-of-type {\n",
       "        vertical-align: middle;\n",
       "    }\n",
       "\n",
       "    .dataframe tbody tr th {\n",
       "        vertical-align: top;\n",
       "    }\n",
       "\n",
       "    .dataframe thead th {\n",
       "        text-align: right;\n",
       "    }\n",
       "</style>\n",
       "<table border=\"1\" class=\"dataframe\">\n",
       "  <thead>\n",
       "    <tr style=\"text-align: right;\">\n",
       "      <th></th>\n",
       "      <th>obj_ID</th>\n",
       "      <th>alpha</th>\n",
       "      <th>delta</th>\n",
       "      <th>u</th>\n",
       "      <th>g</th>\n",
       "      <th>r</th>\n",
       "      <th>i</th>\n",
       "      <th>z</th>\n",
       "      <th>run_ID</th>\n",
       "      <th>cam_col</th>\n",
       "      <th>field_ID</th>\n",
       "      <th>spec_obj_ID</th>\n",
       "      <th>class</th>\n",
       "      <th>redshift</th>\n",
       "      <th>plate</th>\n",
       "      <th>MJD</th>\n",
       "      <th>fiber_ID</th>\n",
       "      <th>class_enc</th>\n",
       "    </tr>\n",
       "  </thead>\n",
       "  <tbody>\n",
       "    <tr>\n",
       "      <th>94457</th>\n",
       "      <td>1.237668e+18</td>\n",
       "      <td>172.427892</td>\n",
       "      <td>18.790452</td>\n",
       "      <td>24.64223</td>\n",
       "      <td>22.25799</td>\n",
       "      <td>21.90783</td>\n",
       "      <td>21.04677</td>\n",
       "      <td>20.68865</td>\n",
       "      <td>5313</td>\n",
       "      <td>2</td>\n",
       "      <td>87</td>\n",
       "      <td>6.619268e+18</td>\n",
       "      <td>STAR</td>\n",
       "      <td>0.000381</td>\n",
       "      <td>5879</td>\n",
       "      <td>56047</td>\n",
       "      <td>372</td>\n",
       "      <td>2</td>\n",
       "    </tr>\n",
       "    <tr>\n",
       "      <th>20973</th>\n",
       "      <td>1.237665e+18</td>\n",
       "      <td>162.876293</td>\n",
       "      <td>31.838297</td>\n",
       "      <td>22.36357</td>\n",
       "      <td>21.53171</td>\n",
       "      <td>21.15401</td>\n",
       "      <td>21.03201</td>\n",
       "      <td>20.55818</td>\n",
       "      <td>4576</td>\n",
       "      <td>1</td>\n",
       "      <td>323</td>\n",
       "      <td>7.256622e+18</td>\n",
       "      <td>QSO</td>\n",
       "      <td>2.147799</td>\n",
       "      <td>6445</td>\n",
       "      <td>56366</td>\n",
       "      <td>718</td>\n",
       "      <td>1</td>\n",
       "    </tr>\n",
       "    <tr>\n",
       "      <th>42832</th>\n",
       "      <td>1.237660e+18</td>\n",
       "      <td>54.185294</td>\n",
       "      <td>0.977728</td>\n",
       "      <td>21.11077</td>\n",
       "      <td>18.74387</td>\n",
       "      <td>17.50812</td>\n",
       "      <td>17.01411</td>\n",
       "      <td>16.77351</td>\n",
       "      <td>3438</td>\n",
       "      <td>6</td>\n",
       "      <td>161</td>\n",
       "      <td>8.254125e+18</td>\n",
       "      <td>STAR</td>\n",
       "      <td>0.000081</td>\n",
       "      <td>7331</td>\n",
       "      <td>56658</td>\n",
       "      <td>556</td>\n",
       "      <td>2</td>\n",
       "    </tr>\n",
       "    <tr>\n",
       "      <th>1568</th>\n",
       "      <td>1.237665e+18</td>\n",
       "      <td>144.515185</td>\n",
       "      <td>31.113963</td>\n",
       "      <td>23.00851</td>\n",
       "      <td>22.65649</td>\n",
       "      <td>22.50306</td>\n",
       "      <td>22.07332</td>\n",
       "      <td>21.45145</td>\n",
       "      <td>4518</td>\n",
       "      <td>5</td>\n",
       "      <td>117</td>\n",
       "      <td>1.176015e+19</td>\n",
       "      <td>GALAXY</td>\n",
       "      <td>0.832558</td>\n",
       "      <td>10445</td>\n",
       "      <td>58158</td>\n",
       "      <td>467</td>\n",
       "      <td>0</td>\n",
       "    </tr>\n",
       "    <tr>\n",
       "      <th>41003</th>\n",
       "      <td>1.237663e+18</td>\n",
       "      <td>331.238887</td>\n",
       "      <td>0.201204</td>\n",
       "      <td>22.90914</td>\n",
       "      <td>21.54735</td>\n",
       "      <td>21.17424</td>\n",
       "      <td>20.81643</td>\n",
       "      <td>20.60504</td>\n",
       "      <td>4192</td>\n",
       "      <td>4</td>\n",
       "      <td>164</td>\n",
       "      <td>1.032006e+19</td>\n",
       "      <td>QSO</td>\n",
       "      <td>3.176916</td>\n",
       "      <td>9166</td>\n",
       "      <td>58051</td>\n",
       "      <td>205</td>\n",
       "      <td>1</td>\n",
       "    </tr>\n",
       "  </tbody>\n",
       "</table>\n",
       "</div>"
      ],
      "text/plain": [
       "             obj_ID       alpha      delta         u         g         r  \\\n",
       "94457  1.237668e+18  172.427892  18.790452  24.64223  22.25799  21.90783   \n",
       "20973  1.237665e+18  162.876293  31.838297  22.36357  21.53171  21.15401   \n",
       "42832  1.237660e+18   54.185294   0.977728  21.11077  18.74387  17.50812   \n",
       "1568   1.237665e+18  144.515185  31.113963  23.00851  22.65649  22.50306   \n",
       "41003  1.237663e+18  331.238887   0.201204  22.90914  21.54735  21.17424   \n",
       "\n",
       "              i         z  run_ID  cam_col  field_ID   spec_obj_ID   class  \\\n",
       "94457  21.04677  20.68865    5313        2        87  6.619268e+18    STAR   \n",
       "20973  21.03201  20.55818    4576        1       323  7.256622e+18     QSO   \n",
       "42832  17.01411  16.77351    3438        6       161  8.254125e+18    STAR   \n",
       "1568   22.07332  21.45145    4518        5       117  1.176015e+19  GALAXY   \n",
       "41003  20.81643  20.60504    4192        4       164  1.032006e+19     QSO   \n",
       "\n",
       "       redshift  plate    MJD  fiber_ID  class_enc  \n",
       "94457  0.000381   5879  56047       372          2  \n",
       "20973  2.147799   6445  56366       718          1  \n",
       "42832  0.000081   7331  56658       556          2  \n",
       "1568   0.832558  10445  58158       467          0  \n",
       "41003  3.176916   9166  58051       205          1  "
      ]
     },
     "execution_count": 20,
     "metadata": {},
     "output_type": "execute_result"
    }
   ],
   "source": [
    "df_train['class_enc'] = df_train['class'].map(t)\n",
    "df_val['class_enc'] = df_val['class'].map(t)\n",
    "df_train.head()"
   ]
  },
  {
   "cell_type": "code",
   "execution_count": 21,
   "metadata": {},
   "outputs": [],
   "source": [
    "df_train = df_train.drop(['class'],axis=1)\n",
    "df_val = df_val.drop(['class'], axis=1)\n",
    "df_train = df_train.reset_index(drop=True)\n",
    "df_val = df_val.reset_index(drop=True)"
   ]
  },
  {
   "cell_type": "code",
   "execution_count": 22,
   "metadata": {},
   "outputs": [
    {
     "data": {
      "text/html": [
       "<div>\n",
       "<style scoped>\n",
       "    .dataframe tbody tr th:only-of-type {\n",
       "        vertical-align: middle;\n",
       "    }\n",
       "\n",
       "    .dataframe tbody tr th {\n",
       "        vertical-align: top;\n",
       "    }\n",
       "\n",
       "    .dataframe thead th {\n",
       "        text-align: right;\n",
       "    }\n",
       "</style>\n",
       "<table border=\"1\" class=\"dataframe\">\n",
       "  <thead>\n",
       "    <tr style=\"text-align: right;\">\n",
       "      <th></th>\n",
       "      <th>obj_ID</th>\n",
       "      <th>alpha</th>\n",
       "      <th>delta</th>\n",
       "      <th>u</th>\n",
       "      <th>g</th>\n",
       "      <th>r</th>\n",
       "      <th>i</th>\n",
       "      <th>z</th>\n",
       "      <th>run_ID</th>\n",
       "      <th>cam_col</th>\n",
       "      <th>field_ID</th>\n",
       "      <th>spec_obj_ID</th>\n",
       "      <th>redshift</th>\n",
       "      <th>plate</th>\n",
       "      <th>MJD</th>\n",
       "      <th>fiber_ID</th>\n",
       "      <th>class_enc</th>\n",
       "    </tr>\n",
       "  </thead>\n",
       "  <tbody>\n",
       "    <tr>\n",
       "      <th>0</th>\n",
       "      <td>1.237668e+18</td>\n",
       "      <td>172.427892</td>\n",
       "      <td>18.790452</td>\n",
       "      <td>24.64223</td>\n",
       "      <td>22.25799</td>\n",
       "      <td>21.90783</td>\n",
       "      <td>21.04677</td>\n",
       "      <td>20.68865</td>\n",
       "      <td>5313</td>\n",
       "      <td>2</td>\n",
       "      <td>87</td>\n",
       "      <td>6.619268e+18</td>\n",
       "      <td>0.000381</td>\n",
       "      <td>5879</td>\n",
       "      <td>56047</td>\n",
       "      <td>372</td>\n",
       "      <td>2</td>\n",
       "    </tr>\n",
       "    <tr>\n",
       "      <th>1</th>\n",
       "      <td>1.237663e+18</td>\n",
       "      <td>331.238887</td>\n",
       "      <td>0.201204</td>\n",
       "      <td>22.90914</td>\n",
       "      <td>21.54735</td>\n",
       "      <td>21.17424</td>\n",
       "      <td>20.81643</td>\n",
       "      <td>20.60504</td>\n",
       "      <td>4192</td>\n",
       "      <td>4</td>\n",
       "      <td>164</td>\n",
       "      <td>1.032006e+19</td>\n",
       "      <td>3.176916</td>\n",
       "      <td>9166</td>\n",
       "      <td>58051</td>\n",
       "      <td>205</td>\n",
       "      <td>1</td>\n",
       "    </tr>\n",
       "    <tr>\n",
       "      <th>2</th>\n",
       "      <td>1.237658e+18</td>\n",
       "      <td>141.637279</td>\n",
       "      <td>42.088899</td>\n",
       "      <td>25.03010</td>\n",
       "      <td>23.79241</td>\n",
       "      <td>21.48902</td>\n",
       "      <td>20.47543</td>\n",
       "      <td>19.81643</td>\n",
       "      <td>2830</td>\n",
       "      <td>1</td>\n",
       "      <td>215</td>\n",
       "      <td>9.342972e+18</td>\n",
       "      <td>0.595731</td>\n",
       "      <td>8298</td>\n",
       "      <td>57390</td>\n",
       "      <td>927</td>\n",
       "      <td>0</td>\n",
       "    </tr>\n",
       "    <tr>\n",
       "      <th>3</th>\n",
       "      <td>1.237668e+18</td>\n",
       "      <td>84.873591</td>\n",
       "      <td>-2.153757</td>\n",
       "      <td>21.72150</td>\n",
       "      <td>21.17631</td>\n",
       "      <td>19.22806</td>\n",
       "      <td>18.42299</td>\n",
       "      <td>17.82802</td>\n",
       "      <td>5181</td>\n",
       "      <td>6</td>\n",
       "      <td>89</td>\n",
       "      <td>8.172984e+18</td>\n",
       "      <td>0.277057</td>\n",
       "      <td>7259</td>\n",
       "      <td>56603</td>\n",
       "      <td>278</td>\n",
       "      <td>0</td>\n",
       "    </tr>\n",
       "    <tr>\n",
       "      <th>4</th>\n",
       "      <td>1.237679e+18</td>\n",
       "      <td>321.649375</td>\n",
       "      <td>2.096375</td>\n",
       "      <td>21.25759</td>\n",
       "      <td>20.10503</td>\n",
       "      <td>20.81921</td>\n",
       "      <td>20.29224</td>\n",
       "      <td>19.06567</td>\n",
       "      <td>7712</td>\n",
       "      <td>4</td>\n",
       "      <td>73</td>\n",
       "      <td>1.031569e+19</td>\n",
       "      <td>0.219943</td>\n",
       "      <td>9162</td>\n",
       "      <td>58040</td>\n",
       "      <td>702</td>\n",
       "      <td>0</td>\n",
       "    </tr>\n",
       "  </tbody>\n",
       "</table>\n",
       "</div>"
      ],
      "text/plain": [
       "         obj_ID       alpha      delta         u         g         r  \\\n",
       "0  1.237668e+18  172.427892  18.790452  24.64223  22.25799  21.90783   \n",
       "1  1.237663e+18  331.238887   0.201204  22.90914  21.54735  21.17424   \n",
       "2  1.237658e+18  141.637279  42.088899  25.03010  23.79241  21.48902   \n",
       "3  1.237668e+18   84.873591  -2.153757  21.72150  21.17631  19.22806   \n",
       "4  1.237679e+18  321.649375   2.096375  21.25759  20.10503  20.81921   \n",
       "\n",
       "          i         z  run_ID  cam_col  field_ID   spec_obj_ID  redshift  \\\n",
       "0  21.04677  20.68865    5313        2        87  6.619268e+18  0.000381   \n",
       "1  20.81643  20.60504    4192        4       164  1.032006e+19  3.176916   \n",
       "2  20.47543  19.81643    2830        1       215  9.342972e+18  0.595731   \n",
       "3  18.42299  17.82802    5181        6        89  8.172984e+18  0.277057   \n",
       "4  20.29224  19.06567    7712        4        73  1.031569e+19  0.219943   \n",
       "\n",
       "   plate    MJD  fiber_ID  class_enc  \n",
       "0   5879  56047       372          2  \n",
       "1   9166  58051       205          1  \n",
       "2   8298  57390       927          0  \n",
       "3   7259  56603       278          0  \n",
       "4   9162  58040       702          0  "
      ]
     },
     "execution_count": 22,
     "metadata": {},
     "output_type": "execute_result"
    }
   ],
   "source": [
    "df_val.head()"
   ]
  },
  {
   "cell_type": "code",
   "execution_count": 23,
   "metadata": {},
   "outputs": [],
   "source": [
    "df_test['class_enc'] = df_test['class'].map(t)\n",
    "df_test = df_test.drop(columns=['class'],axis=1)"
   ]
  },
  {
   "cell_type": "code",
   "execution_count": 24,
   "metadata": {},
   "outputs": [
    {
     "data": {
      "text/plain": [
       "0    53547\n",
       "2    19414\n",
       "1    17038\n",
       "Name: class_enc, dtype: int64"
      ]
     },
     "execution_count": 24,
     "metadata": {},
     "output_type": "execute_result"
    }
   ],
   "source": [
    "df_train['class_enc'].value_counts()"
   ]
  },
  {
   "cell_type": "code",
   "execution_count": 25,
   "metadata": {},
   "outputs": [
    {
     "data": {
      "text/plain": [
       "(107999, 17)"
      ]
     },
     "execution_count": 25,
     "metadata": {},
     "output_type": "execute_result"
    }
   ],
   "source": [
    "df_com = pd.concat([df_train,df_val])\n",
    "df_com.shape"
   ]
  },
  {
   "cell_type": "code",
   "execution_count": 26,
   "metadata": {},
   "outputs": [],
   "source": [
    "from sklearn.preprocessing import OneHotEncoder\n",
    "\n",
    "enc = OneHotEncoder()\n",
    "\n",
    "X = df_com.drop(columns=['class_enc'],axis=1)\n",
    "y = df_com['class_enc']\n",
    "\n",
    "from sklearn.preprocessing import StandardScaler\n",
    "\n",
    "ss = StandardScaler()\n",
    "ss.fit(X)\n",
    "X = pd.DataFrame(ss.transform(X))"
   ]
  },
  {
   "cell_type": "code",
   "execution_count": 27,
   "metadata": {},
   "outputs": [],
   "source": [
    "from tensorflow.keras.utils import to_categorical\n",
    "\n",
    "y_cat = to_categorical(y)"
   ]
  },
  {
   "cell_type": "code",
   "execution_count": 28,
   "metadata": {},
   "outputs": [
    {
     "data": {
      "text/plain": [
       "array([[0., 0., 1.],\n",
       "       [0., 1., 0.],\n",
       "       [0., 0., 1.],\n",
       "       ...,\n",
       "       [1., 0., 0.],\n",
       "       [1., 0., 0.],\n",
       "       [1., 0., 0.]], dtype=float32)"
      ]
     },
     "execution_count": 28,
     "metadata": {},
     "output_type": "execute_result"
    }
   ],
   "source": [
    "y_cat"
   ]
  },
  {
   "cell_type": "code",
   "execution_count": 29,
   "metadata": {},
   "outputs": [],
   "source": [
    "from sklearn.model_selection import train_test_split\n",
    "\n",
    "x_train,x_test,y_train,y_test = train_test_split(X.values,y_cat, test_size=0.2) "
   ]
  },
  {
   "cell_type": "code",
   "execution_count": 30,
   "metadata": {},
   "outputs": [],
   "source": [
    "from tensorflow import keras\n",
    "from tensorflow.keras.callbacks import EarlyStopping\n",
    "import matplotlib.pyplot as plt\n",
    "\n",
    "#model = keras.Sequential()\n",
    "#model.add(keras.layers.InputLayer(input_shape=(16,)))\n",
    "#model.add(keras.layers.Dense(30, activation='relu'))\n",
    "#model.add(keras.layers.Dense(3, activation='softmax'))\n",
    "\n",
    "#early_stopping = EarlyStopping(patience=5, restore_best_weights=True)"
   ]
  },
  {
   "cell_type": "code",
   "execution_count": 31,
   "metadata": {},
   "outputs": [],
   "source": [
    "#model.compile(optimizer='Adam', loss='categorical_crossentropy', metrics=['accuracy'])\n",
    "#history = model.fit(x_train, y_train, epochs=1000, batch_size=512, validation_data=(x_test, y_test), callbacks=[early_stopping])\n"
   ]
  },
  {
   "cell_type": "code",
   "execution_count": 32,
   "metadata": {},
   "outputs": [],
   "source": [
    "from sklearn.model_selection import RandomizedSearchCV\n",
    "from tensorflow.keras.wrappers.scikit_learn import KerasClassifier\n",
    "\n",
    "# Define your model architecture\n",
    "model = keras.Sequential([\n",
    "    keras.layers.Dense(35, activation=\"relu\", input_shape=(16,)),\n",
    "    keras.layers.Dense(3, activation=\"softmax\")\n",
    "])"
   ]
  },
  {
   "cell_type": "code",
   "execution_count": 33,
   "metadata": {},
   "outputs": [],
   "source": [
    "# Compile the model\n",
    "model.compile(optimizer=keras.optimizers.Adam(learning_rate=0.009833213151263778),\n",
    "              loss=\"categorical_crossentropy\",\n",
    "              metrics=[\"accuracy\"])"
   ]
  },
  {
   "cell_type": "code",
   "execution_count": 34,
   "metadata": {},
   "outputs": [
    {
     "name": "stdout",
     "output_type": "stream",
     "text": [
      "Epoch 1/150\n",
      "169/169 [==============================] - 2s 5ms/step - loss: 0.3299 - accuracy: 0.8854 - val_loss: 0.1838 - val_accuracy: 0.9425\n",
      "Epoch 2/150\n",
      "169/169 [==============================] - 1s 4ms/step - loss: 0.1653 - accuracy: 0.9494 - val_loss: 0.1433 - val_accuracy: 0.9549\n",
      "Epoch 3/150\n",
      "169/169 [==============================] - 1s 4ms/step - loss: 0.1430 - accuracy: 0.9573 - val_loss: 0.1311 - val_accuracy: 0.9611\n",
      "Epoch 4/150\n",
      "169/169 [==============================] - 1s 3ms/step - loss: 0.1327 - accuracy: 0.9604 - val_loss: 0.1242 - val_accuracy: 0.9619\n",
      "Epoch 5/150\n",
      "169/169 [==============================] - 1s 3ms/step - loss: 0.1277 - accuracy: 0.9618 - val_loss: 0.1208 - val_accuracy: 0.9630\n",
      "Epoch 6/150\n",
      "169/169 [==============================] - 1s 4ms/step - loss: 0.1226 - accuracy: 0.9629 - val_loss: 0.1151 - val_accuracy: 0.9649\n",
      "Epoch 7/150\n",
      "169/169 [==============================] - 1s 4ms/step - loss: 0.1188 - accuracy: 0.9645 - val_loss: 0.1119 - val_accuracy: 0.9645\n",
      "Epoch 8/150\n",
      "169/169 [==============================] - 1s 3ms/step - loss: 0.1175 - accuracy: 0.9640 - val_loss: 0.1107 - val_accuracy: 0.9662\n",
      "Epoch 9/150\n",
      "169/169 [==============================] - 1s 4ms/step - loss: 0.1137 - accuracy: 0.9655 - val_loss: 0.1093 - val_accuracy: 0.9669\n",
      "Epoch 10/150\n",
      "169/169 [==============================] - 1s 4ms/step - loss: 0.1121 - accuracy: 0.9660 - val_loss: 0.1098 - val_accuracy: 0.9660\n",
      "Epoch 11/150\n",
      "169/169 [==============================] - 1s 3ms/step - loss: 0.1111 - accuracy: 0.9664 - val_loss: 0.1101 - val_accuracy: 0.9675\n",
      "Epoch 12/150\n",
      "169/169 [==============================] - 1s 4ms/step - loss: 0.1080 - accuracy: 0.9676 - val_loss: 0.1060 - val_accuracy: 0.9674\n",
      "Epoch 13/150\n",
      "169/169 [==============================] - 1s 4ms/step - loss: 0.1071 - accuracy: 0.9680 - val_loss: 0.1102 - val_accuracy: 0.9650\n",
      "Epoch 14/150\n",
      "169/169 [==============================] - 1s 4ms/step - loss: 0.1063 - accuracy: 0.9677 - val_loss: 0.1045 - val_accuracy: 0.9687\n",
      "Epoch 15/150\n",
      "169/169 [==============================] - 1s 4ms/step - loss: 0.1053 - accuracy: 0.9683 - val_loss: 0.1053 - val_accuracy: 0.9685\n",
      "Epoch 16/150\n",
      "169/169 [==============================] - 1s 3ms/step - loss: 0.1066 - accuracy: 0.9674 - val_loss: 0.1094 - val_accuracy: 0.9660\n",
      "Epoch 17/150\n",
      "169/169 [==============================] - 1s 4ms/step - loss: 0.1055 - accuracy: 0.9676 - val_loss: 0.1058 - val_accuracy: 0.9689\n",
      "Epoch 18/150\n",
      "169/169 [==============================] - 1s 4ms/step - loss: 0.1037 - accuracy: 0.9690 - val_loss: 0.1063 - val_accuracy: 0.9690\n",
      "Epoch 19/150\n",
      "169/169 [==============================] - 1s 4ms/step - loss: 0.1054 - accuracy: 0.9679 - val_loss: 0.1020 - val_accuracy: 0.9695\n",
      "Epoch 20/150\n",
      "169/169 [==============================] - 1s 4ms/step - loss: 0.1056 - accuracy: 0.9676 - val_loss: 0.1044 - val_accuracy: 0.9681\n",
      "Epoch 21/150\n",
      "169/169 [==============================] - 1s 4ms/step - loss: 0.1035 - accuracy: 0.9686 - val_loss: 0.1021 - val_accuracy: 0.9704\n",
      "Epoch 22/150\n",
      "169/169 [==============================] - 1s 4ms/step - loss: 0.1027 - accuracy: 0.9691 - val_loss: 0.1046 - val_accuracy: 0.9699\n",
      "Epoch 23/150\n",
      "169/169 [==============================] - 1s 3ms/step - loss: 0.1022 - accuracy: 0.9690 - val_loss: 0.1257 - val_accuracy: 0.9596\n",
      "Epoch 24/150\n",
      "169/169 [==============================] - 1s 4ms/step - loss: 0.1029 - accuracy: 0.9690 - val_loss: 0.1014 - val_accuracy: 0.9701\n",
      "Epoch 25/150\n",
      "169/169 [==============================] - 1s 3ms/step - loss: 0.1013 - accuracy: 0.9696 - val_loss: 0.1046 - val_accuracy: 0.9688\n",
      "Epoch 26/150\n",
      "169/169 [==============================] - 1s 3ms/step - loss: 0.0992 - accuracy: 0.9703 - val_loss: 0.1013 - val_accuracy: 0.9691\n",
      "Epoch 27/150\n",
      "169/169 [==============================] - 1s 3ms/step - loss: 0.0994 - accuracy: 0.9703 - val_loss: 0.1017 - val_accuracy: 0.9704\n",
      "Epoch 28/150\n",
      "169/169 [==============================] - 1s 4ms/step - loss: 0.1023 - accuracy: 0.9689 - val_loss: 0.1042 - val_accuracy: 0.9684\n",
      "Epoch 29/150\n",
      "169/169 [==============================] - 1s 4ms/step - loss: 0.0992 - accuracy: 0.9701 - val_loss: 0.0991 - val_accuracy: 0.9714\n",
      "Epoch 30/150\n",
      "169/169 [==============================] - 1s 4ms/step - loss: 0.0999 - accuracy: 0.9703 - val_loss: 0.1067 - val_accuracy: 0.9669\n",
      "Epoch 31/150\n",
      "169/169 [==============================] - 1s 4ms/step - loss: 0.0999 - accuracy: 0.9698 - val_loss: 0.0995 - val_accuracy: 0.9703\n",
      "Epoch 32/150\n",
      "169/169 [==============================] - 1s 4ms/step - loss: 0.1029 - accuracy: 0.9690 - val_loss: 0.0981 - val_accuracy: 0.9708\n",
      "Epoch 33/150\n",
      "169/169 [==============================] - 1s 4ms/step - loss: 0.0985 - accuracy: 0.9708 - val_loss: 0.1013 - val_accuracy: 0.9694\n",
      "Epoch 34/150\n",
      "169/169 [==============================] - 1s 4ms/step - loss: 0.0981 - accuracy: 0.9707 - val_loss: 0.0965 - val_accuracy: 0.9713\n",
      "Epoch 35/150\n",
      "169/169 [==============================] - 1s 4ms/step - loss: 0.0994 - accuracy: 0.9703 - val_loss: 0.1040 - val_accuracy: 0.9685\n",
      "Epoch 36/150\n",
      "169/169 [==============================] - 1s 4ms/step - loss: 0.0990 - accuracy: 0.9707 - val_loss: 0.0995 - val_accuracy: 0.9705\n",
      "Epoch 37/150\n",
      "169/169 [==============================] - 1s 4ms/step - loss: 0.0982 - accuracy: 0.9706 - val_loss: 0.1014 - val_accuracy: 0.9692\n",
      "Epoch 38/150\n",
      "169/169 [==============================] - 1s 3ms/step - loss: 0.0992 - accuracy: 0.9700 - val_loss: 0.1008 - val_accuracy: 0.9697\n",
      "Epoch 39/150\n",
      "169/169 [==============================] - 1s 4ms/step - loss: 0.0977 - accuracy: 0.9705 - val_loss: 0.0993 - val_accuracy: 0.9692\n"
     ]
    },
    {
     "data": {
      "text/plain": [
       "<keras.callbacks.History at 0x1969c933b80>"
      ]
     },
     "execution_count": 34,
     "metadata": {},
     "output_type": "execute_result"
    }
   ],
   "source": [
    "# Train the model\n",
    "model.fit(x_train, y_train, epochs=150, batch_size=512,\n",
    "                    validation_data=(x_test, y_test),\n",
    "                    callbacks=[keras.callbacks.EarlyStopping(patience=5)])"
   ]
  },
  {
   "cell_type": "code",
   "execution_count": 35,
   "metadata": {},
   "outputs": [
    {
     "name": "stdout",
     "output_type": "stream",
     "text": [
      "313/313 [==============================] - 0s 917us/step\n"
     ]
    },
    {
     "data": {
      "text/plain": [
       "array([[9.9468452e-01, 5.3154770e-03, 2.8322357e-19],\n",
       "       [9.9465430e-01, 5.3457050e-03, 3.3736564e-34],\n",
       "       [9.9789584e-01, 2.1041820e-03, 3.7925698e-18],\n",
       "       ...,\n",
       "       [5.0028875e-03, 9.9499714e-01, 0.0000000e+00],\n",
       "       [9.3609527e-02, 9.0639055e-01, 1.3665983e-31],\n",
       "       [9.9904090e-01, 9.5906825e-04, 1.1006313e-23]], dtype=float32)"
      ]
     },
     "execution_count": 35,
     "metadata": {},
     "output_type": "execute_result"
    }
   ],
   "source": [
    "# Evaluate the model\n",
    "\n",
    "test_x = df_test.drop(columns=['class_enc'],axis=1)\n",
    "test_y = df_test[['class_enc']]\n",
    "\n",
    "test_x = ss.transform(test_x)\n",
    "\n",
    "pred = model.predict(test_x)\n",
    "pred"
   ]
  },
  {
   "cell_type": "code",
   "execution_count": 36,
   "metadata": {},
   "outputs": [
    {
     "data": {
      "text/plain": [
       "0.9674"
      ]
     },
     "execution_count": 36,
     "metadata": {},
     "output_type": "execute_result"
    }
   ],
   "source": [
    "sd=[]\n",
    "for i in range(len(pred)):\n",
    "    sd.append(np.argmax(pred[i]))\n",
    "\n",
    "from sklearn.metrics import accuracy_score\n",
    "\n",
    "\n",
    "accuracy_score(test_y,sd) "
   ]
  },
  {
   "cell_type": "code",
   "execution_count": 37,
   "metadata": {},
   "outputs": [],
   "source": [
    "import tensorflow as tf\n",
    "# Save the model\n",
    "model.save('model.h5')"
   ]
  },
  {
   "cell_type": "code",
   "execution_count": 38,
   "metadata": {},
   "outputs": [],
   "source": [
    "# Load the model\n",
    "loaded_model = tf.keras.models.load_model('model.h5')"
   ]
  },
  {
   "cell_type": "code",
   "execution_count": 39,
   "metadata": {},
   "outputs": [
    {
     "name": "stdout",
     "output_type": "stream",
     "text": [
      "313/313 [==============================] - 0s 914us/step\n"
     ]
    }
   ],
   "source": [
    "predictions = loaded_model.predict(test_x)"
   ]
  },
  {
   "cell_type": "code",
   "execution_count": 41,
   "metadata": {},
   "outputs": [
    {
     "data": {
      "text/plain": [
       "['scaling.pkl']"
      ]
     },
     "execution_count": 41,
     "metadata": {},
     "output_type": "execute_result"
    }
   ],
   "source": [
    "import joblib\n",
    "joblib.dump(ss, 'scaling.pkl')"
   ]
  }
 ],
 "metadata": {
  "kernelspec": {
   "display_name": "Python 3",
   "language": "python",
   "name": "python3"
  },
  "language_info": {
   "codemirror_mode": {
    "name": "ipython",
    "version": 3
   },
   "file_extension": ".py",
   "mimetype": "text/x-python",
   "name": "python",
   "nbconvert_exporter": "python",
   "pygments_lexer": "ipython3",
   "version": "3.10.11"
  },
  "orig_nbformat": 4
 },
 "nbformat": 4,
 "nbformat_minor": 2
}
