{
 "cells": [
  {
   "attachments": {},
   "cell_type": "markdown",
   "metadata": {},
   "source": [
    "## Import Library dan Dataset"
   ]
  },
  {
   "cell_type": "code",
   "execution_count": 1,
   "metadata": {},
   "outputs": [
    {
     "data": {
      "text/html": [
       "<div>\n",
       "<style scoped>\n",
       "    .dataframe tbody tr th:only-of-type {\n",
       "        vertical-align: middle;\n",
       "    }\n",
       "\n",
       "    .dataframe tbody tr th {\n",
       "        vertical-align: top;\n",
       "    }\n",
       "\n",
       "    .dataframe thead th {\n",
       "        text-align: right;\n",
       "    }\n",
       "</style>\n",
       "<table border=\"1\" class=\"dataframe\">\n",
       "  <thead>\n",
       "    <tr style=\"text-align: right;\">\n",
       "      <th></th>\n",
       "      <th>obj_ID</th>\n",
       "      <th>alpha</th>\n",
       "      <th>delta</th>\n",
       "      <th>u</th>\n",
       "      <th>g</th>\n",
       "      <th>r</th>\n",
       "      <th>i</th>\n",
       "      <th>z</th>\n",
       "      <th>run_ID</th>\n",
       "      <th>rerun_ID</th>\n",
       "      <th>cam_col</th>\n",
       "      <th>field_ID</th>\n",
       "      <th>spec_obj_ID</th>\n",
       "      <th>class</th>\n",
       "      <th>redshift</th>\n",
       "      <th>plate</th>\n",
       "      <th>MJD</th>\n",
       "      <th>fiber_ID</th>\n",
       "    </tr>\n",
       "  </thead>\n",
       "  <tbody>\n",
       "    <tr>\n",
       "      <th>0</th>\n",
       "      <td>1.237661e+18</td>\n",
       "      <td>135.689107</td>\n",
       "      <td>32.494632</td>\n",
       "      <td>23.87882</td>\n",
       "      <td>22.27530</td>\n",
       "      <td>20.39501</td>\n",
       "      <td>19.16573</td>\n",
       "      <td>18.79371</td>\n",
       "      <td>3606</td>\n",
       "      <td>301</td>\n",
       "      <td>2</td>\n",
       "      <td>79</td>\n",
       "      <td>6.543777e+18</td>\n",
       "      <td>GALAXY</td>\n",
       "      <td>0.634794</td>\n",
       "      <td>5812</td>\n",
       "      <td>56354</td>\n",
       "      <td>171</td>\n",
       "    </tr>\n",
       "    <tr>\n",
       "      <th>1</th>\n",
       "      <td>1.237665e+18</td>\n",
       "      <td>144.826101</td>\n",
       "      <td>31.274185</td>\n",
       "      <td>24.77759</td>\n",
       "      <td>22.83188</td>\n",
       "      <td>22.58444</td>\n",
       "      <td>21.16812</td>\n",
       "      <td>21.61427</td>\n",
       "      <td>4518</td>\n",
       "      <td>301</td>\n",
       "      <td>5</td>\n",
       "      <td>119</td>\n",
       "      <td>1.176014e+19</td>\n",
       "      <td>GALAXY</td>\n",
       "      <td>0.779136</td>\n",
       "      <td>10445</td>\n",
       "      <td>58158</td>\n",
       "      <td>427</td>\n",
       "    </tr>\n",
       "    <tr>\n",
       "      <th>2</th>\n",
       "      <td>1.237661e+18</td>\n",
       "      <td>142.188790</td>\n",
       "      <td>35.582444</td>\n",
       "      <td>25.26307</td>\n",
       "      <td>22.66389</td>\n",
       "      <td>20.60976</td>\n",
       "      <td>19.34857</td>\n",
       "      <td>18.94827</td>\n",
       "      <td>3606</td>\n",
       "      <td>301</td>\n",
       "      <td>2</td>\n",
       "      <td>120</td>\n",
       "      <td>5.152200e+18</td>\n",
       "      <td>GALAXY</td>\n",
       "      <td>0.644195</td>\n",
       "      <td>4576</td>\n",
       "      <td>55592</td>\n",
       "      <td>299</td>\n",
       "    </tr>\n",
       "    <tr>\n",
       "      <th>3</th>\n",
       "      <td>1.237663e+18</td>\n",
       "      <td>338.741038</td>\n",
       "      <td>-0.402828</td>\n",
       "      <td>22.13682</td>\n",
       "      <td>23.77656</td>\n",
       "      <td>21.61162</td>\n",
       "      <td>20.50454</td>\n",
       "      <td>19.25010</td>\n",
       "      <td>4192</td>\n",
       "      <td>301</td>\n",
       "      <td>3</td>\n",
       "      <td>214</td>\n",
       "      <td>1.030107e+19</td>\n",
       "      <td>GALAXY</td>\n",
       "      <td>0.932346</td>\n",
       "      <td>9149</td>\n",
       "      <td>58039</td>\n",
       "      <td>775</td>\n",
       "    </tr>\n",
       "    <tr>\n",
       "      <th>4</th>\n",
       "      <td>1.237680e+18</td>\n",
       "      <td>345.282593</td>\n",
       "      <td>21.183866</td>\n",
       "      <td>19.43718</td>\n",
       "      <td>17.58028</td>\n",
       "      <td>16.49747</td>\n",
       "      <td>15.97711</td>\n",
       "      <td>15.54461</td>\n",
       "      <td>8102</td>\n",
       "      <td>301</td>\n",
       "      <td>3</td>\n",
       "      <td>137</td>\n",
       "      <td>6.891865e+18</td>\n",
       "      <td>GALAXY</td>\n",
       "      <td>0.116123</td>\n",
       "      <td>6121</td>\n",
       "      <td>56187</td>\n",
       "      <td>842</td>\n",
       "    </tr>\n",
       "  </tbody>\n",
       "</table>\n",
       "</div>"
      ],
      "text/plain": [
       "         obj_ID       alpha      delta         u         g         r  \\\n",
       "0  1.237661e+18  135.689107  32.494632  23.87882  22.27530  20.39501   \n",
       "1  1.237665e+18  144.826101  31.274185  24.77759  22.83188  22.58444   \n",
       "2  1.237661e+18  142.188790  35.582444  25.26307  22.66389  20.60976   \n",
       "3  1.237663e+18  338.741038  -0.402828  22.13682  23.77656  21.61162   \n",
       "4  1.237680e+18  345.282593  21.183866  19.43718  17.58028  16.49747   \n",
       "\n",
       "          i         z  run_ID  rerun_ID  cam_col  field_ID   spec_obj_ID  \\\n",
       "0  19.16573  18.79371    3606       301        2        79  6.543777e+18   \n",
       "1  21.16812  21.61427    4518       301        5       119  1.176014e+19   \n",
       "2  19.34857  18.94827    3606       301        2       120  5.152200e+18   \n",
       "3  20.50454  19.25010    4192       301        3       214  1.030107e+19   \n",
       "4  15.97711  15.54461    8102       301        3       137  6.891865e+18   \n",
       "\n",
       "    class  redshift  plate    MJD  fiber_ID  \n",
       "0  GALAXY  0.634794   5812  56354       171  \n",
       "1  GALAXY  0.779136  10445  58158       427  \n",
       "2  GALAXY  0.644195   4576  55592       299  \n",
       "3  GALAXY  0.932346   9149  58039       775  \n",
       "4  GALAXY  0.116123   6121  56187       842  "
      ]
     },
     "execution_count": 1,
     "metadata": {},
     "output_type": "execute_result"
    }
   ],
   "source": [
    "import pandas as pd\n",
    "import numpy as np\n",
    "#from ydata_profiling import ProfileReport\n",
    "\n",
    "df = pd.read_csv('star_classification.csv')\n",
    "df.head()"
   ]
  },
  {
   "cell_type": "code",
   "execution_count": 2,
   "metadata": {},
   "outputs": [
    {
     "data": {
      "text/plain": [
       "(100000, 18)"
      ]
     },
     "execution_count": 2,
     "metadata": {},
     "output_type": "execute_result"
    }
   ],
   "source": [
    "df.shape"
   ]
  },
  {
   "cell_type": "code",
   "execution_count": 3,
   "metadata": {},
   "outputs": [
    {
     "data": {
      "text/plain": [
       "obj_ID         0\n",
       "alpha          0\n",
       "delta          0\n",
       "u              0\n",
       "g              0\n",
       "r              0\n",
       "i              0\n",
       "z              0\n",
       "run_ID         0\n",
       "rerun_ID       0\n",
       "cam_col        0\n",
       "field_ID       0\n",
       "spec_obj_ID    0\n",
       "class          0\n",
       "redshift       0\n",
       "plate          0\n",
       "MJD            0\n",
       "fiber_ID       0\n",
       "dtype: int64"
      ]
     },
     "execution_count": 3,
     "metadata": {},
     "output_type": "execute_result"
    }
   ],
   "source": [
    "# Melihat data NaN\n",
    "df.isna().sum()"
   ]
  },
  {
   "cell_type": "code",
   "execution_count": 4,
   "metadata": {},
   "outputs": [
    {
     "data": {
      "text/plain": [
       "obj_ID         float64\n",
       "alpha          float64\n",
       "delta          float64\n",
       "u              float64\n",
       "g              float64\n",
       "r              float64\n",
       "i              float64\n",
       "z              float64\n",
       "run_ID           int64\n",
       "rerun_ID         int64\n",
       "cam_col          int64\n",
       "field_ID         int64\n",
       "spec_obj_ID    float64\n",
       "class           object\n",
       "redshift       float64\n",
       "plate            int64\n",
       "MJD              int64\n",
       "fiber_ID         int64\n",
       "dtype: object"
      ]
     },
     "execution_count": 4,
     "metadata": {},
     "output_type": "execute_result"
    }
   ],
   "source": [
    "# Melihat Tipe Data\n",
    "\n",
    "df.dtypes"
   ]
  },
  {
   "cell_type": "code",
   "execution_count": 5,
   "metadata": {},
   "outputs": [
    {
     "data": {
      "text/plain": [
       "array(['GALAXY', 'QSO', 'STAR'], dtype=object)"
      ]
     },
     "execution_count": 5,
     "metadata": {},
     "output_type": "execute_result"
    }
   ],
   "source": [
    "# Melihat Hasil Output\n",
    "\n",
    "df['class'].unique()"
   ]
  },
  {
   "cell_type": "code",
   "execution_count": 6,
   "metadata": {},
   "outputs": [
    {
     "data": {
      "text/plain": [
       "GALAXY    59445\n",
       "STAR      21594\n",
       "QSO       18961\n",
       "Name: class, dtype: int64"
      ]
     },
     "execution_count": 6,
     "metadata": {},
     "output_type": "execute_result"
    }
   ],
   "source": [
    "df['class'].value_counts()"
   ]
  },
  {
   "attachments": {},
   "cell_type": "markdown",
   "metadata": {},
   "source": [
    "## Membuat Grafik Data Output"
   ]
  },
  {
   "cell_type": "code",
   "execution_count": 7,
   "metadata": {},
   "outputs": [
    {
     "data": {
      "image/png": "[encoded data removed]",
      "text/plain": [
       "<Figure size 640x480 with 1 Axes>"
      ]
     },
     "metadata": {},
     "output_type": "display_data"
    }
   ],
   "source": [
    "import matplotlib.pyplot as plt\n",
    "\n",
    "# Get the value counts from the 'class' column\n",
    "class_counts = df['class'].value_counts()\n",
    "\n",
    "# Define colors for each class\n",
    "colors = ['blue', 'green', 'red']\n",
    "\n",
    "# Plotting\n",
    "fig, ax = plt.subplots()\n",
    "class_counts.plot(kind='bar', ax=ax, color=colors)\n",
    "\n",
    "# Customize the plot\n",
    "ax.set_xlabel('Class')\n",
    "ax.set_ylabel('Count')\n",
    "ax.set_title('Class Distribution')\n",
    "ax.grid(True, axis='y')  # Add grid lines for clarity\n",
    "\n",
    "# Rotate x-axis labels if needed\n",
    "plt.xticks(rotation=45)\n",
    "\n",
    "# Display the plot\n",
    "plt.tight_layout()\n",
    "plt.show()\n"
   ]
  },
  {
   "cell_type": "code",
   "execution_count": 8,
   "metadata": {},
   "outputs": [],
   "source": [
    "# Menggunakan ydata_profiling untuk melihat korelasi\n",
    "\n",
    "#profile = ProfileReport(df,title=\"Star Profile Report\")\n",
    "#profile"
   ]
  },
  {
   "attachments": {},
   "cell_type": "markdown",
   "metadata": {},
   "source": [
    "## Data Cleaning dan Transformasi"
   ]
  },
  {
   "cell_type": "code",
   "execution_count": 9,
   "metadata": {},
   "outputs": [],
   "source": [
    "# Menghapus kolom yang tidak digunakan\n",
    "\n",
    "df = df.drop(columns = ['obj_ID', 'run_ID', 'rerun_ID', 'cam_col', 'field_ID', 'fiber_ID'], axis=1)"
   ]
  },
  {
   "cell_type": "code",
   "execution_count": 10,
   "metadata": {},
   "outputs": [
    {
     "data": {
      "text/html": [
       "<div>\n",
       "<style scoped>\n",
       "    .dataframe tbody tr th:only-of-type {\n",
       "        vertical-align: middle;\n",
       "    }\n",
       "\n",
       "    .dataframe tbody tr th {\n",
       "        vertical-align: top;\n",
       "    }\n",
       "\n",
       "    .dataframe thead th {\n",
       "        text-align: right;\n",
       "    }\n",
       "</style>\n",
       "<table border=\"1\" class=\"dataframe\">\n",
       "  <thead>\n",
       "    <tr style=\"text-align: right;\">\n",
       "      <th></th>\n",
       "      <th>alpha</th>\n",
       "      <th>delta</th>\n",
       "      <th>u</th>\n",
       "      <th>g</th>\n",
       "      <th>r</th>\n",
       "      <th>i</th>\n",
       "      <th>z</th>\n",
       "      <th>spec_obj_ID</th>\n",
       "      <th>class</th>\n",
       "      <th>redshift</th>\n",
       "      <th>plate</th>\n",
       "      <th>MJD</th>\n",
       "    </tr>\n",
       "  </thead>\n",
       "  <tbody>\n",
       "    <tr>\n",
       "      <th>79543</th>\n",
       "      <td>224.006526</td>\n",
       "      <td>-0.624304</td>\n",
       "      <td>-9999.0</td>\n",
       "      <td>-9999.0</td>\n",
       "      <td>18.1656</td>\n",
       "      <td>18.01675</td>\n",
       "      <td>-9999.0</td>\n",
       "      <td>3.731277e+18</td>\n",
       "      <td>STAR</td>\n",
       "      <td>0.000089</td>\n",
       "      <td>3314</td>\n",
       "      <td>54970</td>\n",
       "    </tr>\n",
       "  </tbody>\n",
       "</table>\n",
       "</div>"
      ],
      "text/plain": [
       "            alpha     delta       u       g        r         i       z  \\\n",
       "79543  224.006526 -0.624304 -9999.0 -9999.0  18.1656  18.01675 -9999.0   \n",
       "\n",
       "        spec_obj_ID class  redshift  plate    MJD  \n",
       "79543  3.731277e+18  STAR  0.000089   3314  54970  "
      ]
     },
     "execution_count": 10,
     "metadata": {},
     "output_type": "execute_result"
    }
   ],
   "source": [
    "odd = df.loc[df['u'] == -9999]\n",
    "odd"
   ]
  },
  {
   "cell_type": "code",
   "execution_count": 11,
   "metadata": {},
   "outputs": [
    {
     "data": {
      "text/plain": [
       "(99999, 12)"
      ]
     },
     "execution_count": 11,
     "metadata": {},
     "output_type": "execute_result"
    }
   ],
   "source": [
    "# Menghapus baris dengan data yang tidak dipakai\n",
    "\n",
    "df = df.drop(df.index[79543], axis=0)\n",
    "df.shape"
   ]
  },
  {
   "cell_type": "code",
   "execution_count": 12,
   "metadata": {},
   "outputs": [],
   "source": [
    "df = df.reset_index(drop=True)"
   ]
  },
  {
   "attachments": {},
   "cell_type": "markdown",
   "metadata": {},
   "source": [
    "## Data Preparation"
   ]
  },
  {
   "cell_type": "code",
   "execution_count": 13,
   "metadata": {},
   "outputs": [
    {
     "name": "stdout",
     "output_type": "stream",
     "text": [
      "(89999, 12)\n",
      "(10000, 12)\n"
     ]
    }
   ],
   "source": [
    "# Membagi data menjadi data train dan data test\n",
    "\n",
    "df_train = df.sample(frac=0.9, random_state=25)\n",
    "df_test = df.drop(df_train.index)\n",
    "print(df_train.shape)\n",
    "print(df_test.shape)"
   ]
  },
  {
   "cell_type": "code",
   "execution_count": 14,
   "metadata": {},
   "outputs": [
    {
     "name": "stdout",
     "output_type": "stream",
     "text": [
      "(71999, 12)\n",
      "(18000, 12)\n"
     ]
    }
   ],
   "source": [
    "# Membagi data menjadi data train dan data validasi\n",
    "\n",
    "df_train1 = df_train.sample(frac=0.8, random_state=20)\n",
    "df_val = df_train.drop(df_train1.index)\n",
    "print(df_train1.shape)\n",
    "print(df_val.shape)"
   ]
  },
  {
   "cell_type": "code",
   "execution_count": 15,
   "metadata": {},
   "outputs": [],
   "source": [
    "# Merubah output menjadi interger\n",
    "\n",
    "t = {'GALAXY':0,'QSO':1,'STAR':2}"
   ]
  },
  {
   "cell_type": "code",
   "execution_count": 16,
   "metadata": {},
   "outputs": [
    {
     "data": {
      "text/html": [
       "<div>\n",
       "<style scoped>\n",
       "    .dataframe tbody tr th:only-of-type {\n",
       "        vertical-align: middle;\n",
       "    }\n",
       "\n",
       "    .dataframe tbody tr th {\n",
       "        vertical-align: top;\n",
       "    }\n",
       "\n",
       "    .dataframe thead th {\n",
       "        text-align: right;\n",
       "    }\n",
       "</style>\n",
       "<table border=\"1\" class=\"dataframe\">\n",
       "  <thead>\n",
       "    <tr style=\"text-align: right;\">\n",
       "      <th></th>\n",
       "      <th>alpha</th>\n",
       "      <th>delta</th>\n",
       "      <th>u</th>\n",
       "      <th>g</th>\n",
       "      <th>r</th>\n",
       "      <th>i</th>\n",
       "      <th>z</th>\n",
       "      <th>spec_obj_ID</th>\n",
       "      <th>class</th>\n",
       "      <th>redshift</th>\n",
       "      <th>plate</th>\n",
       "      <th>MJD</th>\n",
       "      <th>class_enc</th>\n",
       "    </tr>\n",
       "  </thead>\n",
       "  <tbody>\n",
       "    <tr>\n",
       "      <th>94457</th>\n",
       "      <td>172.427892</td>\n",
       "      <td>18.790452</td>\n",
       "      <td>24.64223</td>\n",
       "      <td>22.25799</td>\n",
       "      <td>21.90783</td>\n",
       "      <td>21.04677</td>\n",
       "      <td>20.68865</td>\n",
       "      <td>6.619268e+18</td>\n",
       "      <td>STAR</td>\n",
       "      <td>0.000381</td>\n",
       "      <td>5879</td>\n",
       "      <td>56047</td>\n",
       "      <td>2</td>\n",
       "    </tr>\n",
       "    <tr>\n",
       "      <th>20973</th>\n",
       "      <td>162.876293</td>\n",
       "      <td>31.838297</td>\n",
       "      <td>22.36357</td>\n",
       "      <td>21.53171</td>\n",
       "      <td>21.15401</td>\n",
       "      <td>21.03201</td>\n",
       "      <td>20.55818</td>\n",
       "      <td>7.256622e+18</td>\n",
       "      <td>QSO</td>\n",
       "      <td>2.147799</td>\n",
       "      <td>6445</td>\n",
       "      <td>56366</td>\n",
       "      <td>1</td>\n",
       "    </tr>\n",
       "    <tr>\n",
       "      <th>42832</th>\n",
       "      <td>54.185294</td>\n",
       "      <td>0.977728</td>\n",
       "      <td>21.11077</td>\n",
       "      <td>18.74387</td>\n",
       "      <td>17.50812</td>\n",
       "      <td>17.01411</td>\n",
       "      <td>16.77351</td>\n",
       "      <td>8.254125e+18</td>\n",
       "      <td>STAR</td>\n",
       "      <td>0.000081</td>\n",
       "      <td>7331</td>\n",
       "      <td>56658</td>\n",
       "      <td>2</td>\n",
       "    </tr>\n",
       "    <tr>\n",
       "      <th>1568</th>\n",
       "      <td>144.515185</td>\n",
       "      <td>31.113963</td>\n",
       "      <td>23.00851</td>\n",
       "      <td>22.65649</td>\n",
       "      <td>22.50306</td>\n",
       "      <td>22.07332</td>\n",
       "      <td>21.45145</td>\n",
       "      <td>1.176015e+19</td>\n",
       "      <td>GALAXY</td>\n",
       "      <td>0.832558</td>\n",
       "      <td>10445</td>\n",
       "      <td>58158</td>\n",
       "      <td>0</td>\n",
       "    </tr>\n",
       "    <tr>\n",
       "      <th>41003</th>\n",
       "      <td>331.238887</td>\n",
       "      <td>0.201204</td>\n",
       "      <td>22.90914</td>\n",
       "      <td>21.54735</td>\n",
       "      <td>21.17424</td>\n",
       "      <td>20.81643</td>\n",
       "      <td>20.60504</td>\n",
       "      <td>1.032006e+19</td>\n",
       "      <td>QSO</td>\n",
       "      <td>3.176916</td>\n",
       "      <td>9166</td>\n",
       "      <td>58051</td>\n",
       "      <td>1</td>\n",
       "    </tr>\n",
       "  </tbody>\n",
       "</table>\n",
       "</div>"
      ],
      "text/plain": [
       "            alpha      delta         u         g         r         i  \\\n",
       "94457  172.427892  18.790452  24.64223  22.25799  21.90783  21.04677   \n",
       "20973  162.876293  31.838297  22.36357  21.53171  21.15401  21.03201   \n",
       "42832   54.185294   0.977728  21.11077  18.74387  17.50812  17.01411   \n",
       "1568   144.515185  31.113963  23.00851  22.65649  22.50306  22.07332   \n",
       "41003  331.238887   0.201204  22.90914  21.54735  21.17424  20.81643   \n",
       "\n",
       "              z   spec_obj_ID   class  redshift  plate    MJD  class_enc  \n",
       "94457  20.68865  6.619268e+18    STAR  0.000381   5879  56047          2  \n",
       "20973  20.55818  7.256622e+18     QSO  2.147799   6445  56366          1  \n",
       "42832  16.77351  8.254125e+18    STAR  0.000081   7331  56658          2  \n",
       "1568   21.45145  1.176015e+19  GALAXY  0.832558  10445  58158          0  \n",
       "41003  20.60504  1.032006e+19     QSO  3.176916   9166  58051          1  "
      ]
     },
     "execution_count": 16,
     "metadata": {},
     "output_type": "execute_result"
    }
   ],
   "source": [
    "# Menghapus class string dengan interger\n",
    "\n",
    "df_train['class_enc'] = df_train['class'].map(t)\n",
    "df_val['class_enc'] = df_val['class'].map(t)\n",
    "df_train.head()"
   ]
  },
  {
   "cell_type": "code",
   "execution_count": 17,
   "metadata": {},
   "outputs": [],
   "source": [
    "df_train = df_train.drop(['class'],axis=1)\n",
    "df_val = df_val.drop(['class'], axis=1)\n",
    "df_train = df_train.reset_index(drop=True)\n",
    "df_val = df_val.reset_index(drop=True)"
   ]
  },
  {
   "cell_type": "code",
   "execution_count": 18,
   "metadata": {},
   "outputs": [
    {
     "data": {
      "text/html": [
       "<div>\n",
       "<style scoped>\n",
       "    .dataframe tbody tr th:only-of-type {\n",
       "        vertical-align: middle;\n",
       "    }\n",
       "\n",
       "    .dataframe tbody tr th {\n",
       "        vertical-align: top;\n",
       "    }\n",
       "\n",
       "    .dataframe thead th {\n",
       "        text-align: right;\n",
       "    }\n",
       "</style>\n",
       "<table border=\"1\" class=\"dataframe\">\n",
       "  <thead>\n",
       "    <tr style=\"text-align: right;\">\n",
       "      <th></th>\n",
       "      <th>alpha</th>\n",
       "      <th>delta</th>\n",
       "      <th>u</th>\n",
       "      <th>g</th>\n",
       "      <th>r</th>\n",
       "      <th>i</th>\n",
       "      <th>z</th>\n",
       "      <th>spec_obj_ID</th>\n",
       "      <th>redshift</th>\n",
       "      <th>plate</th>\n",
       "      <th>MJD</th>\n",
       "      <th>class_enc</th>\n",
       "    </tr>\n",
       "  </thead>\n",
       "  <tbody>\n",
       "    <tr>\n",
       "      <th>0</th>\n",
       "      <td>172.427892</td>\n",
       "      <td>18.790452</td>\n",
       "      <td>24.64223</td>\n",
       "      <td>22.25799</td>\n",
       "      <td>21.90783</td>\n",
       "      <td>21.04677</td>\n",
       "      <td>20.68865</td>\n",
       "      <td>6.619268e+18</td>\n",
       "      <td>0.000381</td>\n",
       "      <td>5879</td>\n",
       "      <td>56047</td>\n",
       "      <td>2</td>\n",
       "    </tr>\n",
       "    <tr>\n",
       "      <th>1</th>\n",
       "      <td>331.238887</td>\n",
       "      <td>0.201204</td>\n",
       "      <td>22.90914</td>\n",
       "      <td>21.54735</td>\n",
       "      <td>21.17424</td>\n",
       "      <td>20.81643</td>\n",
       "      <td>20.60504</td>\n",
       "      <td>1.032006e+19</td>\n",
       "      <td>3.176916</td>\n",
       "      <td>9166</td>\n",
       "      <td>58051</td>\n",
       "      <td>1</td>\n",
       "    </tr>\n",
       "    <tr>\n",
       "      <th>2</th>\n",
       "      <td>141.637279</td>\n",
       "      <td>42.088899</td>\n",
       "      <td>25.03010</td>\n",
       "      <td>23.79241</td>\n",
       "      <td>21.48902</td>\n",
       "      <td>20.47543</td>\n",
       "      <td>19.81643</td>\n",
       "      <td>9.342972e+18</td>\n",
       "      <td>0.595731</td>\n",
       "      <td>8298</td>\n",
       "      <td>57390</td>\n",
       "      <td>0</td>\n",
       "    </tr>\n",
       "    <tr>\n",
       "      <th>3</th>\n",
       "      <td>84.873591</td>\n",
       "      <td>-2.153757</td>\n",
       "      <td>21.72150</td>\n",
       "      <td>21.17631</td>\n",
       "      <td>19.22806</td>\n",
       "      <td>18.42299</td>\n",
       "      <td>17.82802</td>\n",
       "      <td>8.172984e+18</td>\n",
       "      <td>0.277057</td>\n",
       "      <td>7259</td>\n",
       "      <td>56603</td>\n",
       "      <td>0</td>\n",
       "    </tr>\n",
       "    <tr>\n",
       "      <th>4</th>\n",
       "      <td>321.649375</td>\n",
       "      <td>2.096375</td>\n",
       "      <td>21.25759</td>\n",
       "      <td>20.10503</td>\n",
       "      <td>20.81921</td>\n",
       "      <td>20.29224</td>\n",
       "      <td>19.06567</td>\n",
       "      <td>1.031569e+19</td>\n",
       "      <td>0.219943</td>\n",
       "      <td>9162</td>\n",
       "      <td>58040</td>\n",
       "      <td>0</td>\n",
       "    </tr>\n",
       "  </tbody>\n",
       "</table>\n",
       "</div>"
      ],
      "text/plain": [
       "        alpha      delta         u         g         r         i         z  \\\n",
       "0  172.427892  18.790452  24.64223  22.25799  21.90783  21.04677  20.68865   \n",
       "1  331.238887   0.201204  22.90914  21.54735  21.17424  20.81643  20.60504   \n",
       "2  141.637279  42.088899  25.03010  23.79241  21.48902  20.47543  19.81643   \n",
       "3   84.873591  -2.153757  21.72150  21.17631  19.22806  18.42299  17.82802   \n",
       "4  321.649375   2.096375  21.25759  20.10503  20.81921  20.29224  19.06567   \n",
       "\n",
       "    spec_obj_ID  redshift  plate    MJD  class_enc  \n",
       "0  6.619268e+18  0.000381   5879  56047          2  \n",
       "1  1.032006e+19  3.176916   9166  58051          1  \n",
       "2  9.342972e+18  0.595731   8298  57390          0  \n",
       "3  8.172984e+18  0.277057   7259  56603          0  \n",
       "4  1.031569e+19  0.219943   9162  58040          0  "
      ]
     },
     "execution_count": 18,
     "metadata": {},
     "output_type": "execute_result"
    }
   ],
   "source": [
    "df_val.head()"
   ]
  },
  {
   "cell_type": "code",
   "execution_count": 19,
   "metadata": {},
   "outputs": [],
   "source": [
    "df_test['class_enc'] = df_test['class'].map(t)\n",
    "df_test = df_test.drop(columns=['class'],axis=1)"
   ]
  },
  {
   "cell_type": "code",
   "execution_count": 20,
   "metadata": {},
   "outputs": [
    {
     "data": {
      "text/plain": [
       "0    53547\n",
       "2    19414\n",
       "1    17038\n",
       "Name: class_enc, dtype: int64"
      ]
     },
     "execution_count": 20,
     "metadata": {},
     "output_type": "execute_result"
    }
   ],
   "source": [
    "df_train['class_enc'].value_counts()"
   ]
  },
  {
   "cell_type": "code",
   "execution_count": 21,
   "metadata": {},
   "outputs": [
    {
     "data": {
      "text/plain": [
       "(107999, 12)"
      ]
     },
     "execution_count": 21,
     "metadata": {},
     "output_type": "execute_result"
    }
   ],
   "source": [
    "# Menggabungkan data df_train dengan df_val\n",
    "\n",
    "df_com = pd.concat([df_train,df_val])\n",
    "df_com.shape"
   ]
  },
  {
   "cell_type": "code",
   "execution_count": 22,
   "metadata": {},
   "outputs": [],
   "source": [
    "# Data preprocessing \n",
    "\n",
    "from sklearn.preprocessing import OneHotEncoder\n",
    "\n",
    "enc = OneHotEncoder()\n",
    "\n",
    "X = df_com.drop(columns=['class_enc'],axis=1)\n",
    "y = df_com['class_enc']\n",
    "\n",
    "from sklearn.preprocessing import StandardScaler\n",
    "\n",
    "ss = StandardScaler()\n",
    "ss.fit(X)\n",
    "X = pd.DataFrame(ss.transform(X))\n",
    "\n",
    "from tensorflow.keras.utils import to_categorical\n",
    "\n",
    "y_cat = to_categorical(y)"
   ]
  },
  {
   "cell_type": "code",
   "execution_count": 23,
   "metadata": {},
   "outputs": [],
   "source": [
    "# Melakukan split data sebagai train data dan test data\n",
    "\n",
    "from sklearn.model_selection import train_test_split\n",
    "\n",
    "x_train,x_test,y_train,y_test = train_test_split(X.values,y_cat, test_size=0.2) "
   ]
  },
  {
   "cell_type": "code",
   "execution_count": 24,
   "metadata": {},
   "outputs": [],
   "source": [
    "from tensorflow import keras\n",
    "from tensorflow.keras.callbacks import EarlyStopping\n",
    "from sklearn.model_selection import RandomizedSearchCV\n",
    "\n",
    "# Define your model architecture\n",
    "model = keras.Sequential([\n",
    "    keras.layers.Dense(33, activation=\"relu\", input_shape=(11,)),\n",
    "    keras.layers.Dense(3, activation=\"softmax\")\n",
    "])"
   ]
  },
  {
   "cell_type": "code",
   "execution_count": 25,
   "metadata": {},
   "outputs": [],
   "source": [
    "# Compile model\n",
    "model.compile(optimizer=keras.optimizers.Adam(learning_rate=0.0012946740543824272),\n",
    "              loss=\"categorical_crossentropy\",\n",
    "              metrics=[\"accuracy\"])"
   ]
  },
  {
   "cell_type": "code",
   "execution_count": 26,
   "metadata": {},
   "outputs": [
    {
     "name": "stdout",
     "output_type": "stream",
     "text": [
      "Epoch 1/150\n",
      "169/169 [==============================] - 2s 4ms/step - loss: 0.6458 - accuracy: 0.7599 - val_loss: 0.4586 - val_accuracy: 0.8493\n",
      "Epoch 2/150\n",
      "169/169 [==============================] - 1s 4ms/step - loss: 0.3873 - accuracy: 0.8690 - val_loss: 0.3226 - val_accuracy: 0.8896\n",
      "Epoch 3/150\n",
      "169/169 [==============================] - 1s 4ms/step - loss: 0.2869 - accuracy: 0.9059 - val_loss: 0.2501 - val_accuracy: 0.9208\n",
      "Epoch 4/150\n",
      "169/169 [==============================] - 1s 4ms/step - loss: 0.2327 - accuracy: 0.9279 - val_loss: 0.2101 - val_accuracy: 0.9360\n",
      "Epoch 5/150\n",
      "169/169 [==============================] - 1s 4ms/step - loss: 0.2038 - accuracy: 0.9381 - val_loss: 0.1883 - val_accuracy: 0.9420\n",
      "Epoch 6/150\n",
      "169/169 [==============================] - 1s 4ms/step - loss: 0.1863 - accuracy: 0.9432 - val_loss: 0.1734 - val_accuracy: 0.9500\n",
      "Epoch 7/150\n",
      "169/169 [==============================] - 1s 4ms/step - loss: 0.1743 - accuracy: 0.9473 - val_loss: 0.1622 - val_accuracy: 0.9534\n",
      "Epoch 8/150\n",
      "169/169 [==============================] - 1s 4ms/step - loss: 0.1653 - accuracy: 0.9505 - val_loss: 0.1550 - val_accuracy: 0.9541\n",
      "Epoch 9/150\n",
      "169/169 [==============================] - 1s 4ms/step - loss: 0.1578 - accuracy: 0.9531 - val_loss: 0.1478 - val_accuracy: 0.9581\n",
      "Epoch 10/150\n",
      "169/169 [==============================] - 1s 4ms/step - loss: 0.1518 - accuracy: 0.9549 - val_loss: 0.1422 - val_accuracy: 0.9600\n",
      "Epoch 11/150\n",
      "169/169 [==============================] - 1s 4ms/step - loss: 0.1462 - accuracy: 0.9568 - val_loss: 0.1390 - val_accuracy: 0.9602\n",
      "Epoch 12/150\n",
      "169/169 [==============================] - 1s 4ms/step - loss: 0.1418 - accuracy: 0.9580 - val_loss: 0.1337 - val_accuracy: 0.9619\n",
      "Epoch 13/150\n",
      "169/169 [==============================] - 1s 4ms/step - loss: 0.1380 - accuracy: 0.9598 - val_loss: 0.1298 - val_accuracy: 0.9631\n",
      "Epoch 14/150\n",
      "169/169 [==============================] - 1s 4ms/step - loss: 0.1347 - accuracy: 0.9605 - val_loss: 0.1272 - val_accuracy: 0.9639\n",
      "Epoch 15/150\n",
      "169/169 [==============================] - 1s 4ms/step - loss: 0.1323 - accuracy: 0.9608 - val_loss: 0.1247 - val_accuracy: 0.9642\n",
      "Epoch 16/150\n",
      "169/169 [==============================] - 1s 4ms/step - loss: 0.1297 - accuracy: 0.9618 - val_loss: 0.1224 - val_accuracy: 0.9651\n",
      "Epoch 17/150\n",
      "169/169 [==============================] - 1s 4ms/step - loss: 0.1276 - accuracy: 0.9624 - val_loss: 0.1206 - val_accuracy: 0.9651\n",
      "Epoch 18/150\n",
      "169/169 [==============================] - 1s 4ms/step - loss: 0.1258 - accuracy: 0.9630 - val_loss: 0.1187 - val_accuracy: 0.9655\n",
      "Epoch 19/150\n",
      "169/169 [==============================] - 1s 4ms/step - loss: 0.1238 - accuracy: 0.9638 - val_loss: 0.1168 - val_accuracy: 0.9664\n",
      "Epoch 20/150\n",
      "169/169 [==============================] - 1s 4ms/step - loss: 0.1222 - accuracy: 0.9641 - val_loss: 0.1154 - val_accuracy: 0.9672\n",
      "Epoch 21/150\n",
      "169/169 [==============================] - 1s 4ms/step - loss: 0.1211 - accuracy: 0.9640 - val_loss: 0.1144 - val_accuracy: 0.9677\n",
      "Epoch 22/150\n",
      "169/169 [==============================] - 1s 4ms/step - loss: 0.1195 - accuracy: 0.9650 - val_loss: 0.1130 - val_accuracy: 0.9676\n",
      "Epoch 23/150\n",
      "169/169 [==============================] - 1s 4ms/step - loss: 0.1186 - accuracy: 0.9649 - val_loss: 0.1128 - val_accuracy: 0.9679\n",
      "Epoch 24/150\n",
      "169/169 [==============================] - 1s 4ms/step - loss: 0.1173 - accuracy: 0.9655 - val_loss: 0.1111 - val_accuracy: 0.9676\n",
      "Epoch 25/150\n",
      "169/169 [==============================] - 1s 4ms/step - loss: 0.1160 - accuracy: 0.9660 - val_loss: 0.1103 - val_accuracy: 0.9682\n",
      "Epoch 26/150\n",
      "169/169 [==============================] - 1s 3ms/step - loss: 0.1153 - accuracy: 0.9658 - val_loss: 0.1091 - val_accuracy: 0.9690\n",
      "Epoch 27/150\n",
      "169/169 [==============================] - 1s 4ms/step - loss: 0.1143 - accuracy: 0.9663 - val_loss: 0.1087 - val_accuracy: 0.9682\n",
      "Epoch 28/150\n",
      "169/169 [==============================] - 1s 4ms/step - loss: 0.1134 - accuracy: 0.9667 - val_loss: 0.1076 - val_accuracy: 0.9689\n",
      "Epoch 29/150\n",
      "169/169 [==============================] - 1s 4ms/step - loss: 0.1124 - accuracy: 0.9667 - val_loss: 0.1070 - val_accuracy: 0.9691\n",
      "Epoch 30/150\n",
      "169/169 [==============================] - 1s 4ms/step - loss: 0.1114 - accuracy: 0.9672 - val_loss: 0.1061 - val_accuracy: 0.9699\n",
      "Epoch 31/150\n",
      "169/169 [==============================] - 1s 4ms/step - loss: 0.1106 - accuracy: 0.9672 - val_loss: 0.1051 - val_accuracy: 0.9708\n",
      "Epoch 32/150\n",
      "169/169 [==============================] - 1s 4ms/step - loss: 0.1100 - accuracy: 0.9674 - val_loss: 0.1051 - val_accuracy: 0.9698\n",
      "Epoch 33/150\n",
      "169/169 [==============================] - 1s 4ms/step - loss: 0.1092 - accuracy: 0.9679 - val_loss: 0.1042 - val_accuracy: 0.9704\n",
      "Epoch 34/150\n",
      "169/169 [==============================] - 1s 4ms/step - loss: 0.1085 - accuracy: 0.9678 - val_loss: 0.1036 - val_accuracy: 0.9700\n",
      "Epoch 35/150\n",
      "169/169 [==============================] - 1s 4ms/step - loss: 0.1083 - accuracy: 0.9679 - val_loss: 0.1065 - val_accuracy: 0.9688\n",
      "Epoch 36/150\n",
      "169/169 [==============================] - 1s 4ms/step - loss: 0.1077 - accuracy: 0.9683 - val_loss: 0.1025 - val_accuracy: 0.9701\n",
      "Epoch 37/150\n",
      "169/169 [==============================] - 1s 4ms/step - loss: 0.1071 - accuracy: 0.9683 - val_loss: 0.1021 - val_accuracy: 0.9703\n",
      "Epoch 38/150\n",
      "169/169 [==============================] - 1s 3ms/step - loss: 0.1064 - accuracy: 0.9686 - val_loss: 0.1015 - val_accuracy: 0.9706\n",
      "Epoch 39/150\n",
      "169/169 [==============================] - 1s 4ms/step - loss: 0.1059 - accuracy: 0.9688 - val_loss: 0.1011 - val_accuracy: 0.9712\n",
      "Epoch 40/150\n",
      "169/169 [==============================] - 1s 4ms/step - loss: 0.1055 - accuracy: 0.9684 - val_loss: 0.1008 - val_accuracy: 0.9706\n",
      "Epoch 41/150\n",
      "169/169 [==============================] - 1s 4ms/step - loss: 0.1051 - accuracy: 0.9688 - val_loss: 0.1005 - val_accuracy: 0.9717\n",
      "Epoch 42/150\n",
      "169/169 [==============================] - 1s 4ms/step - loss: 0.1047 - accuracy: 0.9690 - val_loss: 0.1012 - val_accuracy: 0.9706\n",
      "Epoch 43/150\n",
      "169/169 [==============================] - 1s 4ms/step - loss: 0.1045 - accuracy: 0.9691 - val_loss: 0.1010 - val_accuracy: 0.9697\n",
      "Epoch 44/150\n",
      "169/169 [==============================] - 1s 4ms/step - loss: 0.1039 - accuracy: 0.9693 - val_loss: 0.0999 - val_accuracy: 0.9706\n",
      "Epoch 45/150\n",
      "169/169 [==============================] - 1s 4ms/step - loss: 0.1037 - accuracy: 0.9691 - val_loss: 0.0994 - val_accuracy: 0.9716\n",
      "Epoch 46/150\n",
      "169/169 [==============================] - 1s 4ms/step - loss: 0.1032 - accuracy: 0.9695 - val_loss: 0.0989 - val_accuracy: 0.9722\n",
      "Epoch 47/150\n",
      "169/169 [==============================] - 1s 4ms/step - loss: 0.1030 - accuracy: 0.9693 - val_loss: 0.0996 - val_accuracy: 0.9708\n",
      "Epoch 48/150\n",
      "169/169 [==============================] - 1s 4ms/step - loss: 0.1027 - accuracy: 0.9695 - val_loss: 0.0997 - val_accuracy: 0.9724\n",
      "Epoch 49/150\n",
      "169/169 [==============================] - 1s 4ms/step - loss: 0.1025 - accuracy: 0.9696 - val_loss: 0.0981 - val_accuracy: 0.9712\n",
      "Epoch 50/150\n",
      "169/169 [==============================] - 1s 4ms/step - loss: 0.1020 - accuracy: 0.9695 - val_loss: 0.0987 - val_accuracy: 0.9712\n",
      "Epoch 51/150\n",
      "169/169 [==============================] - 1s 4ms/step - loss: 0.1018 - accuracy: 0.9696 - val_loss: 0.0981 - val_accuracy: 0.9707\n",
      "Epoch 52/150\n",
      "169/169 [==============================] - 1s 4ms/step - loss: 0.1016 - accuracy: 0.9697 - val_loss: 0.0980 - val_accuracy: 0.9725\n",
      "Epoch 53/150\n",
      "169/169 [==============================] - 1s 4ms/step - loss: 0.1011 - accuracy: 0.9698 - val_loss: 0.0978 - val_accuracy: 0.9718\n",
      "Epoch 54/150\n",
      "169/169 [==============================] - 1s 4ms/step - loss: 0.1009 - accuracy: 0.9697 - val_loss: 0.0970 - val_accuracy: 0.9719\n",
      "Epoch 55/150\n",
      "169/169 [==============================] - 1s 4ms/step - loss: 0.1007 - accuracy: 0.9699 - val_loss: 0.0973 - val_accuracy: 0.9724\n",
      "Epoch 56/150\n",
      "169/169 [==============================] - 1s 4ms/step - loss: 0.1006 - accuracy: 0.9698 - val_loss: 0.0966 - val_accuracy: 0.9725\n",
      "Epoch 57/150\n",
      "169/169 [==============================] - 1s 4ms/step - loss: 0.1003 - accuracy: 0.9699 - val_loss: 0.0973 - val_accuracy: 0.9730\n",
      "Epoch 58/150\n",
      "169/169 [==============================] - 1s 4ms/step - loss: 0.1002 - accuracy: 0.9700 - val_loss: 0.0967 - val_accuracy: 0.9726\n",
      "Epoch 59/150\n",
      "169/169 [==============================] - 1s 3ms/step - loss: 0.1000 - accuracy: 0.9702 - val_loss: 0.0978 - val_accuracy: 0.9711\n"
     ]
    },
    {
     "data": {
      "text/plain": [
       "<keras.callbacks.History at 0x2a1511e3d90>"
      ]
     },
     "execution_count": 26,
     "metadata": {},
     "output_type": "execute_result"
    }
   ],
   "source": [
    "# Train the model\n",
    "model.fit(x_train, y_train, epochs=150, batch_size=512,\n",
    "                    validation_data=(x_test, y_test),\n",
    "                    callbacks=[EarlyStopping(patience=3)])"
   ]
  },
  {
   "attachments": {},
   "cell_type": "markdown",
   "metadata": {},
   "source": [
    "## Menyimpan Model dan Melakukan Prediksi pada Data Baru"
   ]
  },
  {
   "cell_type": "code",
   "execution_count": 27,
   "metadata": {},
   "outputs": [],
   "source": [
    "import tensorflow as tf\n",
    "# Save the model\n",
    "model.save('model.h5')"
   ]
  },
  {
   "cell_type": "code",
   "execution_count": 28,
   "metadata": {},
   "outputs": [],
   "source": [
    "# Load the model\n",
    "import tensorflow as tf\n",
    "\n",
    "loaded_model = tf.keras.models.load_model('model.h5')"
   ]
  },
  {
   "cell_type": "code",
   "execution_count": 29,
   "metadata": {},
   "outputs": [
    {
     "data": {
      "text/html": [
       "<div>\n",
       "<style scoped>\n",
       "    .dataframe tbody tr th:only-of-type {\n",
       "        vertical-align: middle;\n",
       "    }\n",
       "\n",
       "    .dataframe tbody tr th {\n",
       "        vertical-align: top;\n",
       "    }\n",
       "\n",
       "    .dataframe thead th {\n",
       "        text-align: right;\n",
       "    }\n",
       "</style>\n",
       "<table border=\"1\" class=\"dataframe\">\n",
       "  <thead>\n",
       "    <tr style=\"text-align: right;\">\n",
       "      <th></th>\n",
       "      <th>alpha</th>\n",
       "      <th>delta</th>\n",
       "      <th>u</th>\n",
       "      <th>g</th>\n",
       "      <th>r</th>\n",
       "      <th>i</th>\n",
       "      <th>z</th>\n",
       "      <th>spec_obj_ID</th>\n",
       "      <th>redshift</th>\n",
       "      <th>plate</th>\n",
       "      <th>MJD</th>\n",
       "    </tr>\n",
       "  </thead>\n",
       "  <tbody>\n",
       "    <tr>\n",
       "      <th>0</th>\n",
       "      <td>135.689107</td>\n",
       "      <td>32.494632</td>\n",
       "      <td>23.87882</td>\n",
       "      <td>23.87882</td>\n",
       "      <td>20.39501</td>\n",
       "      <td>19.16573</td>\n",
       "      <td>18.79371</td>\n",
       "      <td>6.619268e+18</td>\n",
       "      <td>0.000381</td>\n",
       "      <td>5879</td>\n",
       "      <td>56047</td>\n",
       "    </tr>\n",
       "  </tbody>\n",
       "</table>\n",
       "</div>"
      ],
      "text/plain": [
       "        alpha      delta         u         g         r         i         z  \\\n",
       "0  135.689107  32.494632  23.87882  23.87882  20.39501  19.16573  18.79371   \n",
       "\n",
       "    spec_obj_ID  redshift  plate    MJD  \n",
       "0  6.619268e+18  0.000381   5879  56047  "
      ]
     },
     "execution_count": 29,
     "metadata": {},
     "output_type": "execute_result"
    }
   ],
   "source": [
    "import pandas as pd\n",
    "\n",
    "df = pd.read_csv('data.csv')\n",
    "df.head()"
   ]
  },
  {
   "cell_type": "code",
   "execution_count": 30,
   "metadata": {},
   "outputs": [
    {
     "name": "stdout",
     "output_type": "stream",
     "text": [
      "1/1 [==============================] - 0s 64ms/step\n"
     ]
    }
   ],
   "source": [
    "predictions = loaded_model.predict(df)"
   ]
  },
  {
   "cell_type": "code",
   "execution_count": 31,
   "metadata": {},
   "outputs": [
    {
     "name": "stdout",
     "output_type": "stream",
     "text": [
      "1/1 [==============================] - 0s 17ms/step\n"
     ]
    }
   ],
   "source": [
    "import numpy as np\n",
    "\n",
    "output_probabilities =loaded_model.predict(df)\n",
    "predicted_class = np.argmax(output_probabilities)"
   ]
  },
  {
   "cell_type": "code",
   "execution_count": 32,
   "metadata": {},
   "outputs": [
    {
     "name": "stdout",
     "output_type": "stream",
     "text": [
      "0\n"
     ]
    }
   ],
   "source": [
    "print(predicted_class)"
   ]
  },
  {
   "cell_type": "code",
   "execution_count": 33,
   "metadata": {},
   "outputs": [
    {
     "data": {
      "text/plain": [
       "['scaling.pkl']"
      ]
     },
     "execution_count": 33,
     "metadata": {},
     "output_type": "execute_result"
    }
   ],
   "source": [
    "import joblib\n",
    "joblib.dump(ss, 'scaling.pkl')"
   ]
  },
  {
   "attachments": {},
   "cell_type": "markdown",
   "metadata": {},
   "source": [
    "## Mencoba Lagi"
   ]
  },
  {
   "cell_type": "code",
   "execution_count": 34,
   "metadata": {},
   "outputs": [
    {
     "name": "stdout",
     "output_type": "stream",
     "text": [
      "313/313 [==============================] - 0s 967us/step\n"
     ]
    },
    {
     "data": {
      "text/plain": [
       "array([[9.8132414e-01, 1.8675819e-02, 2.8147614e-15],\n",
       "       [9.6459067e-01, 3.5409395e-02, 2.7012452e-26],\n",
       "       [9.9230802e-01, 7.6920106e-03, 1.2809265e-13],\n",
       "       ...,\n",
       "       [5.1531848e-03, 9.9484682e-01, 0.0000000e+00],\n",
       "       [7.2691426e-02, 9.2730862e-01, 1.8726509e-22],\n",
       "       [9.9700660e-01, 2.9934524e-03, 3.8340897e-18]], dtype=float32)"
      ]
     },
     "execution_count": 34,
     "metadata": {},
     "output_type": "execute_result"
    }
   ],
   "source": [
    "test_x = df_test.drop(columns=['class_enc'],axis=1)\n",
    "test_y = df_test[['class_enc']]\n",
    "\n",
    "test_x = ss.transform(test_x)\n",
    "\n",
    "pred = model.predict(test_x)\n",
    "pred"
   ]
  },
  {
   "cell_type": "code",
   "execution_count": 35,
   "metadata": {},
   "outputs": [],
   "source": [
    "sd=[]\n",
    "for i in range(len(pred)):\n",
    "    sd.append(np.argmax(pred[i]))"
   ]
  },
  {
   "cell_type": "code",
   "execution_count": 37,
   "metadata": {},
   "outputs": [
    {
     "name": "stdout",
     "output_type": "stream",
     "text": [
      "Accuracy Score: 0.9672\n"
     ]
    }
   ],
   "source": [
    "from sklearn.metrics import accuracy_score\n",
    "\n",
    "accuracy = accuracy_score(test_y, sd)\n",
    "print(\"Accuracy Score:\", accuracy)\n"
   ]
  }
 ],
 "metadata": {
  "kernelspec": {
   "display_name": "Python 3",
   "language": "python",
   "name": "python3"
  },
  "language_info": {
   "codemirror_mode": {
    "name": "ipython",
    "version": 3
   },
   "file_extension": ".py",
   "mimetype": "text/x-python",
   "name": "python",
   "nbconvert_exporter": "python",
   "pygments_lexer": "ipython3",
   "version": "3.10.11"
  },
  "orig_nbformat": 4
 },
 "nbformat": 4,
 "nbformat_minor": 2
}
